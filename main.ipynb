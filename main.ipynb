{
 "cells": [
  {
   "cell_type": "markdown",
   "id": "0df6c8fc-acf7-46bc-a949-7589f1b4e777",
   "metadata": {
    "user_expressions": []
   },
   "source": [
    "# STAT Project- Group 17: Project Title"
   ]
  },
  {
   "cell_type": "markdown",
   "id": "ee86ace9-e37b-4e4d-9f54-2242b92bbe6a",
   "metadata": {
    "user_expressions": []
   },
   "source": [
    "##### Authors: Andy Zuo, Lia, Helen"
   ]
  },
  {
   "cell_type": "markdown",
   "id": "226bff58-fd8c-4759-9c8c-53a3f349f288",
   "metadata": {
    "user_expressions": []
   },
   "source": [
    "## Introduction"
   ]
  },
  {
   "cell_type": "markdown",
   "id": "1854f13d-f420-4ccc-8c3d-0e169ec89b0e",
   "metadata": {
    "user_expressions": []
   },
   "source": [
    "The Broward County dataset comprises of publicly accessible criminal records, court data, and COMPAS scores originating from Broward County, Florida. The criminal history and demographic details were generated from the raw data provided by ProPublica (Angwin et al., 2016). Probationary history was computed from the public criminal records that were released by the Broward Clerk’s Office.\n",
    "\n",
    "By analyzing this dataset, we can make predictions about criminal activities, employ scientific methodologies, and draw conclusions regarding the nature, structure, and potential trends of crimes that may occur in a particular location and timeframe. This analysis involves studying various factors that could potentially impact criminal activities, based on the existing data and information. The findings can provide a significant scientific basis for the development of crime prevention strategies and tactical measures.\n",
    "\n",
    "In our data set, there are 42 feature and 12 labels. The 12 labels are \"general_two_year\", \"general_six_month\", \"drug_two_year\", \"property_two_year\", \"misdemeanor_two_year\", \"felony_two_year\", \"violent_two_year\",\"drug_six_month\", \"property_six_month\", \"misdemeanor_six_month\", \"felony_six_month\", \"violent_six_month\". Since all of these labels have discrete binary values, the data set is a classification issue. Any combination of these labels can result in a classification issue, and that issue can either be a binary classification issue or not. All labels and characteristics in the data set are numbers, with the exception of \"screening_data\" and \"race\" which are strings. There are no missing data in the data set.\n"
   ]
  },
  {
   "cell_type": "markdown",
   "id": "9cf094c7-a341-4935-b5f5-0fcac1f1e409",
   "metadata": {
    "user_expressions": []
   },
   "source": [
    "### Purpose of Analysis"
   ]
  },
  {
   "cell_type": "markdown",
   "id": "7fa0f478-d3e2-4509-97d3-1369e5233026",
   "metadata": {
    "user_expressions": []
   },
   "source": [
    "The purpose of analyzing the Broward County dataset is to identify the crucial factors that contribute to the likelihood of an individual committing a crime in the future. Using machine learning techniques, we aim to process various features and predict which features has higher chance causing people to commit future criminal activities. Specifically, we want to identify which feature(s) would make a person with a criminal history more likely to commit another crime. The analysis will provide valuable insights into the key determinants of criminal behavior and aid in the development of effective crime prevention strategies."
   ]
  },
  {
   "cell_type": "markdown",
   "id": "0f5cce3d-5102-4e4c-98b7-a2e1eb022442",
   "metadata": {
    "tags": [],
    "user_expressions": []
   },
   "source": [
    "### Assumption& Hypothesis"
   ]
  },
  {
   "cell_type": "markdown",
   "id": "4b3331ca-e447-4ee1-87aa-7057d53e92ef",
   "metadata": {
    "user_expressions": []
   },
   "source": [
    "Assumption 1.\n",
    "One assumption that age and the chance of committing a crime are related is one supposition we may make for the analysis. Younger people can be more likely to engage in criminal activity because they lack maturity and life experience. Alternately, older people might have more resources and opportunities to commit crimes. As a result, we may investigate the relationship between age and the likelihood of committing a crime and see whether there are any risk factors that could be addressed for prevention based on age. It's crucial to note that this presumption may not necessarily apply to every person in the Broward County dataset and is based on previous research on the connection between age and criminal activity.\n",
    "\n",
    "Assumtion 2.\n",
    "Another assumption that there may be a connection between the number of past minor offenses and the chance of committing another crime is another presumption that might be made for the study. A history of criminal activity may make those who have committed more minor offenses in the past more inclined to commit them again. Alternately, people with a lower number of prior misdemeanor offenses might have made a mistake in judgment once and not be as likely to commit crimes in the future. Therefore, we can investigate whether there are any particular patterns or risk factors associated with people who have a higher count of prior misdemeanor offenses, as well as how the number of prior misdemeanor offenses relates to the likelihood of committing another crime. It is crucial to emphasize once more that this presumption may not necessarily apply to every person in the Broward County dataset and is based on previous research on the link between prior criminal history and recidivism."
   ]
  },
  {
   "cell_type": "markdown",
   "id": "d8288eb8-2fb9-40f2-8b80-71589c600f3b",
   "metadata": {
    "user_expressions": []
   },
   "source": [
    "## The Data"
   ]
  },
  {
   "cell_type": "code",
   "execution_count": null,
   "id": "c0463285-c0f3-48df-8522-2050b5e7facb",
   "metadata": {},
   "outputs": [],
   "source": []
  }
 ],
 "metadata": {
  "kernelspec": {
   "display_name": "Python 3 (ipykernel)",
   "language": "python",
   "name": "python3"
  },
  "language_info": {
   "codemirror_mode": {
    "name": "ipython",
    "version": 3
   },
   "file_extension": ".py",
   "mimetype": "text/x-python",
   "name": "python",
   "nbconvert_exporter": "python",
   "pygments_lexer": "ipython3",
   "version": "3.10.8"
  }
 },
 "nbformat": 4,
 "nbformat_minor": 5
}
