{
 "cells": [
  {
   "cell_type": "markdown",
   "id": "0df6c8fc-acf7-46bc-a949-7589f1b4e777",
   "metadata": {
    "user_expressions": []
   },
   "source": [
    "# STAT Project- Group 17: Project Title"
   ]
  },
  {
   "cell_type": "markdown",
   "id": "ee86ace9-e37b-4e4d-9f54-2242b92bbe6a",
   "metadata": {
    "tags": [],
    "user_expressions": []
   },
   "source": [
    "##### Authors: Andy Zuo, Joowon Yang, Helen"
   ]
  },
  {
   "cell_type": "markdown",
   "id": "56e4e93e-a26a-44de-86bb-3c03bdba79f1",
   "metadata": {
    "user_expressions": []
   },
   "source": [
    "### Download the data on a computer with a python installation\n",
    "If you are using a pre-configured setup (eg, in binder), great! You don’t have to download or set up anything.\n",
    "\n",
    "Otherwise, to begin, get the data downloaded, by downloading the data file from the public Github repository link below:\n",
    "\n",
    "**** https://github.com/BeanHam/2019-interpretable-machine-learning/blob/master/broward/data/broward_da ****\n",
    "\n",
    "Add more instruction......."
   ]
  },
  {
   "cell_type": "markdown",
   "id": "226bff58-fd8c-4759-9c8c-53a3f349f288",
   "metadata": {
    "user_expressions": []
   },
   "source": [
    "## Introduction"
   ]
  },
  {
   "cell_type": "markdown",
   "id": "1854f13d-f420-4ccc-8c3d-0e169ec89b0e",
   "metadata": {
    "user_expressions": []
   },
   "source": [
    "The Broward County dataset comprises of publicly accessible criminal records, court data, and COMPAS scores originating from Broward County, Florida. The criminal history and demographic details were generated from the raw data provided by ProPublica (Angwin et al., 2016). Probationary history was computed from the public criminal records that were released by the Broward Clerk’s Office.\n",
    "\n",
    "By analyzing this dataset, we can make predictions about criminal activities, employ scientific methodologies, and draw conclusions regarding the nature, structure, and potential trends of crimes that may occur in a particular location and timeframe. This analysis involves studying various factors that could potentially impact criminal activities, based on the existing data and information. The findings can provide a significant scientific basis for the development of crime prevention strategies and tactical measures.\n",
    "\n",
    "In our data set, there are 42 feature and 12 labels. The 12 labels are \"general_two_year\", \"general_six_month\", \"drug_two_year\", \"property_two_year\", \"misdemeanor_two_year\", \"felony_two_year\", \"violent_two_year\",\"drug_six_month\", \"property_six_month\", \"misdemeanor_six_month\", \"felony_six_month\", \"violent_six_month\". Since all of these labels have discrete binary values, the data set is a classification issue. Any combination of these labels can result in a classification issue, and that issue can either be a binary classification issue or not. All labels and characteristics in the data set are numbers, with the exception of \"screening_data\" and \"race\" which are strings. There are no missing data in the data set.\n"
   ]
  },
  {
   "cell_type": "markdown",
   "id": "9cf094c7-a341-4935-b5f5-0fcac1f1e409",
   "metadata": {
    "user_expressions": []
   },
   "source": [
    "### Purpose of Analysis"
   ]
  },
  {
   "cell_type": "markdown",
   "id": "7fa0f478-d3e2-4509-97d3-1369e5233026",
   "metadata": {
    "user_expressions": []
   },
   "source": [
    "The purpose of analyzing the Broward County dataset is to identify the crucial factors that contribute to the likelihood of an individual committing a crime in the future. Using machine learning techniques, we aim to process various features and predict which features has higher chance causing people to commit future criminal activities. Specifically, we want to identify which feature(s) would make a person with a criminal history more likely to commit another crime. The analysis will provide valuable insights into the key determinants of criminal behavior and aid in the development of effective crime prevention strategies."
   ]
  },
  {
   "cell_type": "markdown",
   "id": "0f5cce3d-5102-4e4c-98b7-a2e1eb022442",
   "metadata": {
    "tags": [],
    "user_expressions": []
   },
   "source": [
    "### Assumption& Hypothesis"
   ]
  },
  {
   "cell_type": "markdown",
   "id": "4b3331ca-e447-4ee1-87aa-7057d53e92ef",
   "metadata": {
    "user_expressions": []
   },
   "source": [
    "Assumption 1.\n",
    "One assumption that age and the chance of committing a crime are related is one supposition we may make for the analysis. Younger people can be more likely to engage in criminal activity because they lack maturity and life experience. Alternately, older people might have more resources and opportunities to commit crimes. As a result, we may investigate the relationship between age and the likelihood of committing a crime and see whether there are any risk factors that could be addressed for prevention based on age. It's crucial to note that this presumption may not necessarily apply to every person in the Broward County dataset and is based on previous research on the connection between age and criminal activity.\n",
    "\n",
    "Assumtion 2.\n",
    "Another assumption that there may be a connection between the number of past minor offenses and the chance of committing another crime is another presumption that might be made for the study. A history of criminal activity may make those who have committed more minor offenses in the past more inclined to commit them again. Alternately, people with a lower number of prior misdemeanor offenses might have made a mistake in judgment once and not be as likely to commit crimes in the future. Therefore, we can investigate whether there are any particular patterns or risk factors associated with people who have a higher count of prior misdemeanor offenses, as well as how the number of prior misdemeanor offenses relates to the likelihood of committing another crime. It is crucial to emphasize once more that this presumption may not necessarily apply to every person in the Broward County dataset and is based on previous research on the link between prior criminal history and recidivism."
   ]
  },
  {
   "cell_type": "markdown",
   "id": "d8288eb8-2fb9-40f2-8b80-71589c600f3b",
   "metadata": {
    "user_expressions": []
   },
   "source": [
    "## Read the Data"
   ]
  },
  {
   "cell_type": "markdown",
   "id": "4db74aa8-24e9-4784-8fc7-7f77f6f9889d",
   "metadata": {
    "user_expressions": []
   },
   "source": [
    "## Exploratory Data Analysis"
   ]
  },
  {
   "cell_type": "markdown",
   "id": "ddbe6ceb-58d7-4d6a-8bd4-25703f6877ca",
   "metadata": {
    "user_expressions": []
   },
   "source": [
    "## Predict Using the Random Forest Model"
   ]
  },
  {
   "cell_type": "markdown",
   "id": "56c05154-8290-4f5b-b51f-104862653e93",
   "metadata": {
    "user_expressions": []
   },
   "source": [
    "The Random Forest model is a powerful and versatile machine learning algorithm that is well-suited for predicting the features that have the biggest influence on committing a crime again. It is a type of ensemble learning method that combines multiple decision trees to improve the accuracy and stability of the predictions. Random Forest models are particularly effective in dealing with complex and high-dimensional data, which is often the case in criminology and criminal justice research.\n",
    "\n",
    "\n",
    "In the context of predicting the features that have the biggest influence on committing a crime again, Random Forest models can be used to identify the most important variables or predictors that are associated with recidivism. These predictors could include demographic characteristics such as age, gender, and race, as well as prior criminal history, employment status, education level, and other social and environmental factors that may increase the risk of reoffending. By identifying these predictors, policymakers and criminal justice practitioners can design targeted interventions and prevention strategies that address the underlying risk factors and reduce the likelihood of recidivism.\n",
    "\n",
    "Regarding the correctness of the assumptions related to age and prior criminal history, Random Forest models can be used to test and validate these assumptions by analyzing the relationships between the predictors and the outcome variable (i.e., recidivism). The model can identify the relative importance of each predictor and determine whether age and prior criminal history are significant risk factors for recidivism. By using a machine learning approach, we can account for the complex and non-linear relationships between the predictors and the outcome variable, as well as the potential interactions between them.\n"
   ]
  },
  {
   "cell_type": "markdown",
   "id": "6f151d34-08d2-4603-b7b7-5b7ab5597e7e",
   "metadata": {
    "user_expressions": []
   },
   "source": [
    "### Data Processing"
   ]
  },
  {
   "cell_type": "code",
   "execution_count": null,
   "id": "5765a24e-6bc7-4d2b-89f1-1b22c53f27bf",
   "metadata": {},
   "outputs": [],
   "source": []
  }
 ],
 "metadata": {
  "kernelspec": {
   "display_name": "Python 3 (ipykernel)",
   "language": "python",
   "name": "python3"
  },
  "language_info": {
   "codemirror_mode": {
    "name": "ipython",
    "version": 3
   },
   "file_extension": ".py",
   "mimetype": "text/x-python",
   "name": "python",
   "nbconvert_exporter": "python",
   "pygments_lexer": "ipython3",
   "version": "3.10.8"
  }
 },
 "nbformat": 4,
 "nbformat_minor": 5
}
