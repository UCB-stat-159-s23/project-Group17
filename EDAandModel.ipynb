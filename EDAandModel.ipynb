{
 "cells": [
  {
   "cell_type": "markdown",
   "id": "33f5f0c0-9797-4484-9929-d7e5be3055b0",
   "metadata": {
    "user_expressions": []
   },
   "source": [
    "# EDAandModel "
   ]
  },
  {
   "cell_type": "markdown",
   "id": "33f5f0c0-9797-4484-9929-d7e5be3055b0",
   "metadata": {
    "user_expressions": []
   },
   "source": [
    "# EDAandModel : STAT Project- Group 17: Exploring Crime Trends with Machine Learning "
   ]
  },
  {
   "cell_type": "markdown",
   "id": "f347eeca-83f4-40e3-8813-1de2b8a40395",
   "metadata": {
    "user_expressions": []
   },
   "source": [
    "##### Authors: Andy Zuo, Lia Yang, Helen Tan"
   ]
  },
  {
   "cell_type": "code",
   "execution_count": 37,
   "id": "637529b4-5f5f-4015-8693-9d12d5f948cf",
   "metadata": {},
   "outputs": [],
   "source": [
    "import pandas as pd\n",
    "import numpy as np\n",
    "from numpy import set_printoptions\n",
    "import seaborn as sns\n",
    "import matplotlib.pyplot as plt\n",
    "from sklearn.svm import SVC\n",
    "from sklearn.metrics import accuracy_score, recall_score, f1_score, confusion_matrix\n",
    "from sklearn.model_selection import KFold, GridSearchCV\n",
    "\n",
    "from tools import utils"
   ]
  },
  {
   "cell_type": "markdown",
   "id": "8fa3e0b9-f03a-45cb-b5ae-9d0113271489",
   "metadata": {
    "user_expressions": []
   },
   "source": [
    "## Exploratory Data Analysis(EDA)"
   ]
  },
  {
   "cell_type": "markdown",
   "id": "9334d6fb-7059-49ec-a22e-6848d5305ba8",
   "metadata": {
    "user_expressions": []
   },
   "source": [
    "### Data Cleaning - add more data cleaning"
   ]
  },
  {
   "cell_type": "code",
   "execution_count": 38,
   "id": "15c64250-ec5f-46e8-a958-509962efd4f3",
   "metadata": {},
   "outputs": [],
   "source": [
    "crime_data = pd.read_csv('data/crime.csv')"
   ]
  },
  {
   "cell_type": "code",
   "execution_count": 39,
   "id": "094a04c1-156e-4e2b-bc21-148226b7f171",
   "metadata": {},
   "outputs": [
    {
     "data": {
      "text/plain": [
       "(1954, 53)"
      ]
     },
     "execution_count": 39,
     "metadata": {},
     "output_type": "execute_result"
    }
   ],
   "source": [
    "crime_data.shape"
   ]
  },
  {
   "cell_type": "code",
   "execution_count": 40,
   "id": "d69754c6-638f-4913-94c5-d339458aa724",
   "metadata": {},
   "outputs": [
    {
     "data": {
      "text/html": [
       "<div>\n",
       "<style scoped>\n",
       "    .dataframe tbody tr th:only-of-type {\n",
       "        vertical-align: middle;\n",
       "    }\n",
       "\n",
       "    .dataframe tbody tr th {\n",
       "        vertical-align: top;\n",
       "    }\n",
       "\n",
       "    .dataframe thead th {\n",
       "        text-align: right;\n",
       "    }\n",
       "</style>\n",
       "<table border=\"1\" class=\"dataframe\">\n",
       "  <thead>\n",
       "    <tr style=\"text-align: right;\">\n",
       "      <th></th>\n",
       "      <th>person_id</th>\n",
       "      <th>sex</th>\n",
       "      <th>age_at_current_charge</th>\n",
       "      <th>age_at_first_charge</th>\n",
       "      <th>p_charges</th>\n",
       "      <th>p_incarceration</th>\n",
       "      <th>p_probation</th>\n",
       "      <th>p_juv_fel_count</th>\n",
       "      <th>p_felprop_viol</th>\n",
       "      <th>p_murder</th>\n",
       "      <th>...</th>\n",
       "      <th>drug_two_year</th>\n",
       "      <th>property_two_year</th>\n",
       "      <th>misdemeanor_two_year</th>\n",
       "      <th>felony_two_year</th>\n",
       "      <th>violent_two_year</th>\n",
       "      <th>drug_six_month</th>\n",
       "      <th>property_six_month</th>\n",
       "      <th>misdemeanor_six_month</th>\n",
       "      <th>felony_six_month</th>\n",
       "      <th>violent_six_month</th>\n",
       "    </tr>\n",
       "  </thead>\n",
       "  <tbody>\n",
       "    <tr>\n",
       "      <th>count</th>\n",
       "      <td>1954.000000</td>\n",
       "      <td>1954.000000</td>\n",
       "      <td>1954.000000</td>\n",
       "      <td>1954.000000</td>\n",
       "      <td>1954.000000</td>\n",
       "      <td>1954.000000</td>\n",
       "      <td>1954.000000</td>\n",
       "      <td>1954.000000</td>\n",
       "      <td>1954.000000</td>\n",
       "      <td>1954.000000</td>\n",
       "      <td>...</td>\n",
       "      <td>1954.000000</td>\n",
       "      <td>1954.000000</td>\n",
       "      <td>1954.000000</td>\n",
       "      <td>1954.000000</td>\n",
       "      <td>1954.000000</td>\n",
       "      <td>1954.000000</td>\n",
       "      <td>1954.000000</td>\n",
       "      <td>1954.000000</td>\n",
       "      <td>1954.000000</td>\n",
       "      <td>1954.000000</td>\n",
       "    </tr>\n",
       "    <tr>\n",
       "      <th>mean</th>\n",
       "      <td>3260.150461</td>\n",
       "      <td>0.871546</td>\n",
       "      <td>31.971853</td>\n",
       "      <td>23.956499</td>\n",
       "      <td>11.228762</td>\n",
       "      <td>0.351586</td>\n",
       "      <td>0.967247</td>\n",
       "      <td>0.112590</td>\n",
       "      <td>0.996929</td>\n",
       "      <td>0.017400</td>\n",
       "      <td>...</td>\n",
       "      <td>0.093142</td>\n",
       "      <td>0.089560</td>\n",
       "      <td>0.272262</td>\n",
       "      <td>0.176049</td>\n",
       "      <td>0.209826</td>\n",
       "      <td>0.039918</td>\n",
       "      <td>0.050154</td>\n",
       "      <td>0.125384</td>\n",
       "      <td>0.089048</td>\n",
       "      <td>0.084442</td>\n",
       "    </tr>\n",
       "    <tr>\n",
       "      <th>std</th>\n",
       "      <td>1900.758354</td>\n",
       "      <td>0.334681</td>\n",
       "      <td>11.008898</td>\n",
       "      <td>8.868941</td>\n",
       "      <td>11.223027</td>\n",
       "      <td>0.477588</td>\n",
       "      <td>1.481047</td>\n",
       "      <td>0.708095</td>\n",
       "      <td>2.217787</td>\n",
       "      <td>0.174411</td>\n",
       "      <td>...</td>\n",
       "      <td>0.290706</td>\n",
       "      <td>0.285623</td>\n",
       "      <td>0.445238</td>\n",
       "      <td>0.380959</td>\n",
       "      <td>0.407289</td>\n",
       "      <td>0.195817</td>\n",
       "      <td>0.218318</td>\n",
       "      <td>0.331238</td>\n",
       "      <td>0.284886</td>\n",
       "      <td>0.278121</td>\n",
       "    </tr>\n",
       "    <tr>\n",
       "      <th>min</th>\n",
       "      <td>4.000000</td>\n",
       "      <td>0.000000</td>\n",
       "      <td>18.000000</td>\n",
       "      <td>0.000000</td>\n",
       "      <td>2.000000</td>\n",
       "      <td>0.000000</td>\n",
       "      <td>0.000000</td>\n",
       "      <td>0.000000</td>\n",
       "      <td>0.000000</td>\n",
       "      <td>0.000000</td>\n",
       "      <td>...</td>\n",
       "      <td>0.000000</td>\n",
       "      <td>0.000000</td>\n",
       "      <td>0.000000</td>\n",
       "      <td>0.000000</td>\n",
       "      <td>0.000000</td>\n",
       "      <td>0.000000</td>\n",
       "      <td>0.000000</td>\n",
       "      <td>0.000000</td>\n",
       "      <td>0.000000</td>\n",
       "      <td>0.000000</td>\n",
       "    </tr>\n",
       "    <tr>\n",
       "      <th>25%</th>\n",
       "      <td>1576.250000</td>\n",
       "      <td>1.000000</td>\n",
       "      <td>23.000000</td>\n",
       "      <td>18.000000</td>\n",
       "      <td>4.000000</td>\n",
       "      <td>0.000000</td>\n",
       "      <td>0.000000</td>\n",
       "      <td>0.000000</td>\n",
       "      <td>0.000000</td>\n",
       "      <td>0.000000</td>\n",
       "      <td>...</td>\n",
       "      <td>0.000000</td>\n",
       "      <td>0.000000</td>\n",
       "      <td>0.000000</td>\n",
       "      <td>0.000000</td>\n",
       "      <td>0.000000</td>\n",
       "      <td>0.000000</td>\n",
       "      <td>0.000000</td>\n",
       "      <td>0.000000</td>\n",
       "      <td>0.000000</td>\n",
       "      <td>0.000000</td>\n",
       "    </tr>\n",
       "    <tr>\n",
       "      <th>50%</th>\n",
       "      <td>3291.000000</td>\n",
       "      <td>1.000000</td>\n",
       "      <td>29.000000</td>\n",
       "      <td>20.000000</td>\n",
       "      <td>8.000000</td>\n",
       "      <td>0.000000</td>\n",
       "      <td>0.000000</td>\n",
       "      <td>0.000000</td>\n",
       "      <td>0.000000</td>\n",
       "      <td>0.000000</td>\n",
       "      <td>...</td>\n",
       "      <td>0.000000</td>\n",
       "      <td>0.000000</td>\n",
       "      <td>0.000000</td>\n",
       "      <td>0.000000</td>\n",
       "      <td>0.000000</td>\n",
       "      <td>0.000000</td>\n",
       "      <td>0.000000</td>\n",
       "      <td>0.000000</td>\n",
       "      <td>0.000000</td>\n",
       "      <td>0.000000</td>\n",
       "    </tr>\n",
       "    <tr>\n",
       "      <th>75%</th>\n",
       "      <td>4952.500000</td>\n",
       "      <td>1.000000</td>\n",
       "      <td>39.000000</td>\n",
       "      <td>27.000000</td>\n",
       "      <td>14.000000</td>\n",
       "      <td>1.000000</td>\n",
       "      <td>1.000000</td>\n",
       "      <td>0.000000</td>\n",
       "      <td>1.000000</td>\n",
       "      <td>0.000000</td>\n",
       "      <td>...</td>\n",
       "      <td>0.000000</td>\n",
       "      <td>0.000000</td>\n",
       "      <td>1.000000</td>\n",
       "      <td>0.000000</td>\n",
       "      <td>0.000000</td>\n",
       "      <td>0.000000</td>\n",
       "      <td>0.000000</td>\n",
       "      <td>0.000000</td>\n",
       "      <td>0.000000</td>\n",
       "      <td>0.000000</td>\n",
       "    </tr>\n",
       "    <tr>\n",
       "      <th>max</th>\n",
       "      <td>6468.000000</td>\n",
       "      <td>1.000000</td>\n",
       "      <td>69.000000</td>\n",
       "      <td>60.000000</td>\n",
       "      <td>218.000000</td>\n",
       "      <td>1.000000</td>\n",
       "      <td>16.000000</td>\n",
       "      <td>14.000000</td>\n",
       "      <td>29.000000</td>\n",
       "      <td>4.000000</td>\n",
       "      <td>...</td>\n",
       "      <td>1.000000</td>\n",
       "      <td>1.000000</td>\n",
       "      <td>1.000000</td>\n",
       "      <td>1.000000</td>\n",
       "      <td>1.000000</td>\n",
       "      <td>1.000000</td>\n",
       "      <td>1.000000</td>\n",
       "      <td>1.000000</td>\n",
       "      <td>1.000000</td>\n",
       "      <td>1.000000</td>\n",
       "    </tr>\n",
       "  </tbody>\n",
       "</table>\n",
       "<p>8 rows × 51 columns</p>\n",
       "</div>"
      ],
      "text/plain": [
       "         person_id          sex  age_at_current_charge  age_at_first_charge  \\\n",
       "count  1954.000000  1954.000000            1954.000000          1954.000000   \n",
       "mean   3260.150461     0.871546              31.971853            23.956499   \n",
       "std    1900.758354     0.334681              11.008898             8.868941   \n",
       "min       4.000000     0.000000              18.000000             0.000000   \n",
       "25%    1576.250000     1.000000              23.000000            18.000000   \n",
       "50%    3291.000000     1.000000              29.000000            20.000000   \n",
       "75%    4952.500000     1.000000              39.000000            27.000000   \n",
       "max    6468.000000     1.000000              69.000000            60.000000   \n",
       "\n",
       "         p_charges  p_incarceration  p_probation  p_juv_fel_count  \\\n",
       "count  1954.000000      1954.000000  1954.000000      1954.000000   \n",
       "mean     11.228762         0.351586     0.967247         0.112590   \n",
       "std      11.223027         0.477588     1.481047         0.708095   \n",
       "min       2.000000         0.000000     0.000000         0.000000   \n",
       "25%       4.000000         0.000000     0.000000         0.000000   \n",
       "50%       8.000000         0.000000     0.000000         0.000000   \n",
       "75%      14.000000         1.000000     1.000000         0.000000   \n",
       "max     218.000000         1.000000    16.000000        14.000000   \n",
       "\n",
       "       p_felprop_viol     p_murder  ...  drug_two_year  property_two_year  \\\n",
       "count     1954.000000  1954.000000  ...    1954.000000        1954.000000   \n",
       "mean         0.996929     0.017400  ...       0.093142           0.089560   \n",
       "std          2.217787     0.174411  ...       0.290706           0.285623   \n",
       "min          0.000000     0.000000  ...       0.000000           0.000000   \n",
       "25%          0.000000     0.000000  ...       0.000000           0.000000   \n",
       "50%          0.000000     0.000000  ...       0.000000           0.000000   \n",
       "75%          1.000000     0.000000  ...       0.000000           0.000000   \n",
       "max         29.000000     4.000000  ...       1.000000           1.000000   \n",
       "\n",
       "       misdemeanor_two_year  felony_two_year  violent_two_year  \\\n",
       "count           1954.000000      1954.000000       1954.000000   \n",
       "mean               0.272262         0.176049          0.209826   \n",
       "std                0.445238         0.380959          0.407289   \n",
       "min                0.000000         0.000000          0.000000   \n",
       "25%                0.000000         0.000000          0.000000   \n",
       "50%                0.000000         0.000000          0.000000   \n",
       "75%                1.000000         0.000000          0.000000   \n",
       "max                1.000000         1.000000          1.000000   \n",
       "\n",
       "       drug_six_month  property_six_month  misdemeanor_six_month  \\\n",
       "count     1954.000000         1954.000000            1954.000000   \n",
       "mean         0.039918            0.050154               0.125384   \n",
       "std          0.195817            0.218318               0.331238   \n",
       "min          0.000000            0.000000               0.000000   \n",
       "25%          0.000000            0.000000               0.000000   \n",
       "50%          0.000000            0.000000               0.000000   \n",
       "75%          0.000000            0.000000               0.000000   \n",
       "max          1.000000            1.000000               1.000000   \n",
       "\n",
       "       felony_six_month  violent_six_month  \n",
       "count       1954.000000        1954.000000  \n",
       "mean           0.089048           0.084442  \n",
       "std            0.284886           0.278121  \n",
       "min            0.000000           0.000000  \n",
       "25%            0.000000           0.000000  \n",
       "50%            0.000000           0.000000  \n",
       "75%            0.000000           0.000000  \n",
       "max            1.000000           1.000000  \n",
       "\n",
       "[8 rows x 51 columns]"
      ]
     },
     "execution_count": 40,
     "metadata": {},
     "output_type": "execute_result"
    }
   ],
   "source": [
    "crime_data.describe()"
   ]
  },
  {
   "cell_type": "code",
   "execution_count": 41,
   "id": "b4a88fd0-dca7-4afc-854b-7ba2c9181f1e",
   "metadata": {},
   "outputs": [
    {
     "data": {
      "text/html": [
       "<div>\n",
       "<style scoped>\n",
       "    .dataframe tbody tr th:only-of-type {\n",
       "        vertical-align: middle;\n",
       "    }\n",
       "\n",
       "    .dataframe tbody tr th {\n",
       "        vertical-align: top;\n",
       "    }\n",
       "\n",
       "    .dataframe thead th {\n",
       "        text-align: right;\n",
       "    }\n",
       "</style>\n",
       "<table border=\"1\" class=\"dataframe\">\n",
       "  <thead>\n",
       "    <tr style=\"text-align: right;\">\n",
       "      <th></th>\n",
       "      <th>person_id</th>\n",
       "      <th>screening_date</th>\n",
       "      <th>sex</th>\n",
       "      <th>race</th>\n",
       "      <th>age_at_current_charge</th>\n",
       "      <th>age_at_first_charge</th>\n",
       "      <th>p_charges</th>\n",
       "      <th>p_incarceration</th>\n",
       "      <th>p_probation</th>\n",
       "      <th>p_juv_fel_count</th>\n",
       "      <th>...</th>\n",
       "      <th>drug_two_year</th>\n",
       "      <th>property_two_year</th>\n",
       "      <th>misdemeanor_two_year</th>\n",
       "      <th>felony_two_year</th>\n",
       "      <th>violent_two_year</th>\n",
       "      <th>drug_six_month</th>\n",
       "      <th>property_six_month</th>\n",
       "      <th>misdemeanor_six_month</th>\n",
       "      <th>felony_six_month</th>\n",
       "      <th>violent_six_month</th>\n",
       "    </tr>\n",
       "  </thead>\n",
       "  <tbody>\n",
       "    <tr>\n",
       "      <th>0</th>\n",
       "      <td>1001</td>\n",
       "      <td>2014-02-03</td>\n",
       "      <td>1</td>\n",
       "      <td>African-American</td>\n",
       "      <td>45</td>\n",
       "      <td>19</td>\n",
       "      <td>39</td>\n",
       "      <td>1</td>\n",
       "      <td>3</td>\n",
       "      <td>0</td>\n",
       "      <td>...</td>\n",
       "      <td>0</td>\n",
       "      <td>0</td>\n",
       "      <td>0</td>\n",
       "      <td>0</td>\n",
       "      <td>0</td>\n",
       "      <td>0</td>\n",
       "      <td>0</td>\n",
       "      <td>0</td>\n",
       "      <td>0</td>\n",
       "      <td>0</td>\n",
       "    </tr>\n",
       "    <tr>\n",
       "      <th>1</th>\n",
       "      <td>101</td>\n",
       "      <td>2013-01-13</td>\n",
       "      <td>1</td>\n",
       "      <td>Hispanic</td>\n",
       "      <td>42</td>\n",
       "      <td>26</td>\n",
       "      <td>9</td>\n",
       "      <td>1</td>\n",
       "      <td>0</td>\n",
       "      <td>0</td>\n",
       "      <td>...</td>\n",
       "      <td>0</td>\n",
       "      <td>0</td>\n",
       "      <td>1</td>\n",
       "      <td>0</td>\n",
       "      <td>1</td>\n",
       "      <td>0</td>\n",
       "      <td>0</td>\n",
       "      <td>0</td>\n",
       "      <td>0</td>\n",
       "      <td>0</td>\n",
       "    </tr>\n",
       "    <tr>\n",
       "      <th>2</th>\n",
       "      <td>101</td>\n",
       "      <td>2014-02-02</td>\n",
       "      <td>1</td>\n",
       "      <td>Hispanic</td>\n",
       "      <td>43</td>\n",
       "      <td>26</td>\n",
       "      <td>15</td>\n",
       "      <td>1</td>\n",
       "      <td>0</td>\n",
       "      <td>0</td>\n",
       "      <td>...</td>\n",
       "      <td>0</td>\n",
       "      <td>0</td>\n",
       "      <td>0</td>\n",
       "      <td>0</td>\n",
       "      <td>0</td>\n",
       "      <td>0</td>\n",
       "      <td>0</td>\n",
       "      <td>0</td>\n",
       "      <td>0</td>\n",
       "      <td>0</td>\n",
       "    </tr>\n",
       "    <tr>\n",
       "      <th>3</th>\n",
       "      <td>1015</td>\n",
       "      <td>2014-01-22</td>\n",
       "      <td>1</td>\n",
       "      <td>African-American</td>\n",
       "      <td>35</td>\n",
       "      <td>19</td>\n",
       "      <td>47</td>\n",
       "      <td>1</td>\n",
       "      <td>3</td>\n",
       "      <td>0</td>\n",
       "      <td>...</td>\n",
       "      <td>0</td>\n",
       "      <td>0</td>\n",
       "      <td>0</td>\n",
       "      <td>0</td>\n",
       "      <td>0</td>\n",
       "      <td>0</td>\n",
       "      <td>0</td>\n",
       "      <td>0</td>\n",
       "      <td>0</td>\n",
       "      <td>0</td>\n",
       "    </tr>\n",
       "    <tr>\n",
       "      <th>4</th>\n",
       "      <td>1016</td>\n",
       "      <td>2013-04-15</td>\n",
       "      <td>1</td>\n",
       "      <td>Other</td>\n",
       "      <td>27</td>\n",
       "      <td>18</td>\n",
       "      <td>11</td>\n",
       "      <td>1</td>\n",
       "      <td>2</td>\n",
       "      <td>0</td>\n",
       "      <td>...</td>\n",
       "      <td>0</td>\n",
       "      <td>0</td>\n",
       "      <td>0</td>\n",
       "      <td>1</td>\n",
       "      <td>1</td>\n",
       "      <td>0</td>\n",
       "      <td>0</td>\n",
       "      <td>0</td>\n",
       "      <td>1</td>\n",
       "      <td>1</td>\n",
       "    </tr>\n",
       "  </tbody>\n",
       "</table>\n",
       "<p>5 rows × 53 columns</p>\n",
       "</div>"
      ],
      "text/plain": [
       "   person_id screening_date  sex              race  age_at_current_charge  \\\n",
       "0       1001     2014-02-03    1  African-American                     45   \n",
       "1        101     2013-01-13    1          Hispanic                     42   \n",
       "2        101     2014-02-02    1          Hispanic                     43   \n",
       "3       1015     2014-01-22    1  African-American                     35   \n",
       "4       1016     2013-04-15    1             Other                     27   \n",
       "\n",
       "   age_at_first_charge  p_charges  p_incarceration  p_probation  \\\n",
       "0                   19         39                1            3   \n",
       "1                   26          9                1            0   \n",
       "2                   26         15                1            0   \n",
       "3                   19         47                1            3   \n",
       "4                   18         11                1            2   \n",
       "\n",
       "   p_juv_fel_count  ...  drug_two_year  property_two_year  \\\n",
       "0                0  ...              0                  0   \n",
       "1                0  ...              0                  0   \n",
       "2                0  ...              0                  0   \n",
       "3                0  ...              0                  0   \n",
       "4                0  ...              0                  0   \n",
       "\n",
       "   misdemeanor_two_year  felony_two_year  violent_two_year  drug_six_month  \\\n",
       "0                     0                0                 0               0   \n",
       "1                     1                0                 1               0   \n",
       "2                     0                0                 0               0   \n",
       "3                     0                0                 0               0   \n",
       "4                     0                1                 1               0   \n",
       "\n",
       "   property_six_month  misdemeanor_six_month  felony_six_month  \\\n",
       "0                   0                      0                 0   \n",
       "1                   0                      0                 0   \n",
       "2                   0                      0                 0   \n",
       "3                   0                      0                 0   \n",
       "4                   0                      0                 1   \n",
       "\n",
       "   violent_six_month  \n",
       "0                  0  \n",
       "1                  0  \n",
       "2                  0  \n",
       "3                  0  \n",
       "4                  1  \n",
       "\n",
       "[5 rows x 53 columns]"
      ]
     },
     "execution_count": 41,
     "metadata": {},
     "output_type": "execute_result"
    }
   ],
   "source": [
    "crime_data.head()"
   ]
  },
  {
   "cell_type": "code",
   "execution_count": 42,
   "id": "cce4d530-d1e3-465d-88d8-ba7d784c0532",
   "metadata": {},
   "outputs": [
    {
     "data": {
      "text/plain": [
       "person_id                0\n",
       "screening_date           0\n",
       "sex                      0\n",
       "race                     0\n",
       "age_at_current_charge    0\n",
       "age_at_first_charge      0\n",
       "p_charges                0\n",
       "p_incarceration          0\n",
       "p_probation              0\n",
       "p_juv_fel_count          0\n",
       "p_felprop_viol           0\n",
       "p_murder                 0\n",
       "p_felassault             0\n",
       "p_misdeassault           0\n",
       "p_famviol                0\n",
       "p_sex_offense            0\n",
       "p_weapon                 0\n",
       "p_fta_two_year           0\n",
       "p_fta_two_year_plus      0\n",
       "current_violence         0\n",
       "current_violence20       0\n",
       "p_pending_charge         0\n",
       "p_felony                 0\n",
       "p_misdemeanor            0\n",
       "p_violence               0\n",
       "total_convictions        0\n",
       "p_arrest                 0\n",
       "p_property               0\n",
       "p_traffic                0\n",
       "p_drug                   0\n",
       "p_dui                    0\n",
       "p_domestic               0\n",
       "p_stalking               0\n",
       "p_voyeurism              0\n",
       "p_fraud                  0\n",
       "p_stealing               0\n",
       "p_trespass               0\n",
       "six_month                0\n",
       "one_year                 0\n",
       "three_year               0\n",
       "five_year                0\n",
       "general_two_year         0\n",
       "general_six_month        0\n",
       "drug_two_year            0\n",
       "property_two_year        0\n",
       "misdemeanor_two_year     0\n",
       "felony_two_year          0\n",
       "violent_two_year         0\n",
       "drug_six_month           0\n",
       "property_six_month       0\n",
       "misdemeanor_six_month    0\n",
       "felony_six_month         0\n",
       "violent_six_month        0\n",
       "dtype: int64"
      ]
     },
     "execution_count": 42,
     "metadata": {},
     "output_type": "execute_result"
    }
   ],
   "source": [
    "crime_data.isnull().sum()"
   ]
  },
  {
   "cell_type": "code",
   "execution_count": 43,
   "id": "bc556ab3-f02c-46c1-b204-6aae88822673",
   "metadata": {},
   "outputs": [
    {
     "data": {
      "text/plain": [
       "person_id                 int64\n",
       "screening_date           object\n",
       "sex                       int64\n",
       "race                     object\n",
       "age_at_current_charge     int64\n",
       "age_at_first_charge       int64\n",
       "p_charges                 int64\n",
       "p_incarceration           int64\n",
       "p_probation               int64\n",
       "p_juv_fel_count           int64\n",
       "p_felprop_viol            int64\n",
       "p_murder                  int64\n",
       "p_felassault              int64\n",
       "p_misdeassault            int64\n",
       "p_famviol                 int64\n",
       "p_sex_offense             int64\n",
       "p_weapon                  int64\n",
       "p_fta_two_year            int64\n",
       "p_fta_two_year_plus       int64\n",
       "current_violence          int64\n",
       "current_violence20        int64\n",
       "p_pending_charge          int64\n",
       "p_felony                  int64\n",
       "p_misdemeanor             int64\n",
       "p_violence                int64\n",
       "total_convictions         int64\n",
       "p_arrest                  int64\n",
       "p_property                int64\n",
       "p_traffic                 int64\n",
       "p_drug                    int64\n",
       "p_dui                     int64\n",
       "p_domestic                int64\n",
       "p_stalking                int64\n",
       "p_voyeurism               int64\n",
       "p_fraud                   int64\n",
       "p_stealing                int64\n",
       "p_trespass                int64\n",
       "six_month                 int64\n",
       "one_year                  int64\n",
       "three_year                int64\n",
       "five_year                 int64\n",
       "general_two_year          int64\n",
       "general_six_month         int64\n",
       "drug_two_year             int64\n",
       "property_two_year         int64\n",
       "misdemeanor_two_year      int64\n",
       "felony_two_year           int64\n",
       "violent_two_year          int64\n",
       "drug_six_month            int64\n",
       "property_six_month        int64\n",
       "misdemeanor_six_month     int64\n",
       "felony_six_month          int64\n",
       "violent_six_month         int64\n",
       "dtype: object"
      ]
     },
     "execution_count": 43,
     "metadata": {},
     "output_type": "execute_result"
    }
   ],
   "source": [
    "crime_data.dtypes"
   ]
  },
  {
   "cell_type": "markdown",
   "id": "b63e5339-b4f4-4666-8038-ce2cc2e41c97",
   "metadata": {
    "user_expressions": []
   },
   "source": [
    "### Data visualization - Add more visualizations based on the two assumption at Main.ipynb and add description for each visualization such as purpose and the visualization anaylysis, and findings."
   ]
  },
  {
   "cell_type": "code",
   "execution_count": 44,
   "id": "abc6b2c6-0ab6-4809-8876-fc04f96e8db3",
   "metadata": {},
   "outputs": [
    {
     "name": "stdout",
     "output_type": "stream",
     "text": [
      "total_convictions        1.00\n",
      "p_misdemeanor            0.89\n",
      "p_arrest                 0.89\n",
      "p_pending_charge         0.86\n",
      "p_charges                0.83\n",
      "p_felony                 0.81\n",
      "p_probation              0.64\n",
      "p_drug                   0.62\n",
      "p_violence               0.59\n",
      "p_property               0.54\n",
      "p_stealing               0.49\n",
      "p_felprop_viol           0.47\n",
      "p_trespass               0.42\n",
      "p_incarceration          0.37\n",
      "p_traffic                0.33\n",
      "p_felassault             0.28\n",
      "age_at_current_charge    0.23\n",
      "p_juv_fel_count          0.21\n",
      "p_weapon                 0.19\n",
      "felony_two_year          0.16\n",
      "general_two_year         0.15\n",
      "one_year                 0.12\n",
      "violent_two_year         0.12\n",
      "three_year               0.12\n",
      "p_misdeassault           0.12\n",
      "p_dui                    0.11\n",
      "general_six_month        0.11\n",
      "property_two_year        0.10\n",
      "five_year                0.09\n",
      "sex                      0.09\n",
      "drug_two_year            0.08\n",
      "felony_six_month         0.08\n",
      "six_month                0.08\n",
      "property_six_month       0.07\n",
      "misdemeanor_six_month    0.06\n",
      "violent_six_month        0.06\n",
      "p_fta_two_year           0.06\n",
      "p_fraud                  0.04\n",
      "p_stalking               0.04\n",
      "drug_six_month           0.04\n",
      "misdemeanor_two_year     0.03\n",
      "p_domestic               0.02\n",
      "p_fta_two_year_plus      0.02\n",
      "p_murder                 0.02\n",
      "person_id                0.02\n",
      "p_sex_offense           -0.00\n",
      "p_voyeurism             -0.01\n",
      "current_violence        -0.07\n",
      "current_violence20      -0.13\n",
      "age_at_first_charge     -0.17\n",
      "Name: total_convictions, dtype: float64 \n",
      "\n"
     ]
    },
    {
     "name": "stderr",
     "output_type": "stream",
     "text": [
      "/tmp/ipykernel_2819/2983602702.py:2: FutureWarning: The default value of numeric_only in DataFrame.corr is deprecated. In a future version, it will default to False. Select only valid columns or specify the value of numeric_only to silence this warning.\n",
      "  correlation = crime_data.corr().round(2)\n"
     ]
    }
   ],
   "source": [
    "crime_data = crime_data.drop('p_famviol', axis = 1)\n",
    "correlation = crime_data.corr().round(2)\n",
    "print(correlation['total_convictions'].sort_values(ascending = False),'\\n')"
   ]
  },
  {
   "cell_type": "markdown",
   "id": "21fc5be1-e308-4415-a185-e967852750c0",
   "metadata": {
    "user_expressions": []
   },
   "source": [
    "### Heatmap and Histogram - Age and Crime"
   ]
  },
  {
   "cell_type": "markdown",
   "id": "b5a3f723-e59b-42d5-a686-cc4a2ea23ef0",
   "metadata": {
    "user_expressions": []
   },
   "source": [
    "We used heatmap to show the relationship between two or more variables and to reduce redundancy, such as the relationship between age and the likelihood of committing a crime. \n",
    "\n",
    "We found that age is indeed a factor in criminal behavior, as older people tend to have more convictions and pending charges, and tend to commit their first crime at an older age. However, it's important to keep in mind that correlation does not necessarily imply causal relationships, and further analysis is needed to determine the nature of these relationships."
   ]
  },
  {
   "cell_type": "code",
   "execution_count": 45,
   "id": "3450a448-b9b4-4ce1-898d-a43f42cc9421",
   "metadata": {},
   "outputs": [
    {
     "data": {
      "image/png": "[encoded data removed]",
      "text/plain": [
       "<Figure size 1000x800 with 2 Axes>"
      ]
     },
     "metadata": {},
     "output_type": "display_data"
    }
   ],
   "source": [
    "columns = [\"age_at_current_charge\", \"age_at_first_charge\", \"total_convictions\", \"p_pending_charge\"]\n",
    "correlation_coefs = np.corrcoef(crime_data[columns].values.T)\n",
    "mask = np.triu(np.ones((4,4)))\n",
    "f, ax = plt.subplots(figsize=(10, 8))\n",
    "heatmap = sns.heatmap(correlation_coefs.round(2), mask=mask, vmax=.8, linewidths=0.01, square=True, annot=True, cmap='crest',\n",
    "            linecolor=\"white\", xticklabels=columns, annot_kws={'size': 12}, yticklabels=columns)\n",
    "heatmap.set_xticklabels(heatmap.get_xticklabels(), fontsize=9)\n",
    "plt.savefig('figures/heatmap1')\n",
    "plt.show()"
   ]
  },
  {
   "cell_type": "markdown",
   "id": "0ac04b21-e8aa-4ab6-8e81-51921dfc2450",
   "metadata": {
    "user_expressions": []
   },
   "source": [
    "We use histograms to see the overall pattern and distribution of a variable, as well as identify any outliers or unusual values. "
   ]
  },
  {
   "cell_type": "code",
   "execution_count": 46,
   "id": "d4228aae-e1b5-45bf-a6b7-a217e7896204",
   "metadata": {},
   "outputs": [
    {
     "data": {
      "image/png": "[encoded data removed]",
      "text/plain": [
       "<Figure size 900x900 with 4 Axes>"
      ]
     },
     "metadata": {},
     "output_type": "display_data"
    }
   ],
   "source": [
    "fig, axes = plt.subplots(figsize=(9,9), ncols=2, nrows=2)\n",
    "\n",
    "hist_features1 = [\"age_at_current_charge\", \"age_at_first_charge\", \"total_convictions\", \"p_pending_charge\"]\n",
    "\n",
    "for k, feature in enumerate(hist_features1):\n",
    "    axes[k//2, k%2].set_title(feature)\n",
    "    crime_data[feature].plot(kind=\"hist\", ax=axes[k//2, k%2], color = 'lightgreen')\n",
    "plt.tight_layout()\n",
    "plt.savefig('figures/histogram1.png')\n",
    "plt.show()"
   ]
  },
  {
   "cell_type": "markdown",
   "id": "b8a8b7af-f15f-4948-a097-53ef147100c8",
   "metadata": {
    "user_expressions": []
   },
   "source": [
    "### Heatmap and Histogram - Past minor offenses and Crime"
   ]
  },
  {
   "cell_type": "markdown",
   "id": "990f7ebf-2698-40f7-9c57-88b0497f88b1",
   "metadata": {
    "user_expressions": []
   },
   "source": [
    "Based on the heatmap, there is a moderate to strong positive correlation between past minor offenses and crime. This indicated that individuals with a history of minor offenses may be more likely to commit more serious crimes, as indicated by their higher rates of total convictions and arrests. Again, it's important know that this correlation does not necessarily imply causal relationships, and further analysis is needed to determine the nature of these relationships."
   ]
  },
  {
   "cell_type": "code",
   "execution_count": 47,
   "id": "eb9ecb17-af6d-45b6-bc72-6b6e130cd7fb",
   "metadata": {},
   "outputs": [
    {
     "data": {
      "image/png": "[encoded data removed]",
      "text/plain": [
       "<Figure size 1000x800 with 2 Axes>"
      ]
     },
     "metadata": {},
     "output_type": "display_data"
    }
   ],
   "source": [
    "columns1 = [\"p_charges\",\"p_pending_charge\",\"total_convictions\",\"p_arrest\"]\n",
    "correlation_coefs = np.corrcoef(crime_data[columns1].values.T)\n",
    "mask = np.triu(np.ones((4,4)))\n",
    "f, ax = plt.subplots(figsize=(10, 8))\n",
    "heatmap = sns.heatmap(correlation_coefs.round(2), mask=mask, vmax=.8, linewidths=0.01, square=True, annot=True, cmap='crest',\n",
    "            linecolor=\"white\", xticklabels=columns1, annot_kws={'size': 12}, yticklabels=columns1)\n",
    "heatmap.set_xticklabels(heatmap.get_xticklabels(), fontsize=9)\n",
    "plt.savefig('figures/heatmap2')\n",
    "plt.show()"
   ]
  },
  {
   "cell_type": "markdown",
   "id": "ea20d72f-e1cc-4c1a-afda-b7b9d5c57276",
   "metadata": {
    "user_expressions": []
   },
   "source": [
    "We also use histograms to observe the overall pattern and distribution of variables. Since all the histograms below are right-skewed, we need to transform these variables to create a more symmetrical distribution, which can improve model performance."
   ]
  },
  {
   "cell_type": "code",
   "execution_count": 48,
   "id": "ff779f69-4a76-4c85-a265-3b9a8cfe98f1",
   "metadata": {},
   "outputs": [
    {
     "data": {
      "image/png": "[encoded data removed]",
      "text/plain": [
       "<Figure size 900x900 with 4 Axes>"
      ]
     },
     "metadata": {},
     "output_type": "display_data"
    }
   ],
   "source": [
    "fig, axes = plt.subplots(figsize=(9,9), ncols=2, nrows=2)\n",
    "\n",
    "hist_features1 = [\"p_charges\",\"p_pending_charge\",\"total_convictions\",\"p_arrest\"]\n",
    "\n",
    "for k, feature in enumerate(hist_features1):\n",
    "    axes[k//2, k%2].set_title(feature)\n",
    "    crime_data[feature].plot(kind=\"hist\", ax=axes[k//2, k%2], color = 'lightgreen')\n",
    "plt.tight_layout()\n",
    "plt.savefig('figures/histogram2.png')\n",
    "plt.show()"
   ]
  },
  {
   "cell_type": "markdown",
   "id": "060b3586-b002-4741-b001-adf66ff0ff95",
   "metadata": {
    "user_expressions": []
   },
   "source": [
    "## Feature Engineer - try to understand the future engineer do, and try to add some more feature engine that is useful for random forest model"
   ]
  },
  {
   "cell_type": "markdown",
   "id": "c133892f-9a8b-42a5-8efe-f65191b0e8da",
   "metadata": {
    "tags": [],
    "user_expressions": []
   },
   "source": [
    "Feature engineering is the process of selecting, extracting, and transforming raw data into features that can be used to train a machine learning model. The goal of feature engineering is to improve the accuracy and efficiency of a model by creating meaningful representations of the input data."
   ]
  },
  {
   "cell_type": "markdown",
   "id": "dd68289f-599e-4561-b53b-1f3d2047763e",
   "metadata": {
    "user_expressions": []
   },
   "source": [
    "#### split screening_date to year, month and day\n",
    "\n",
    "Based on the findings in the book “IS CRIME SEASONAL” by Carolyn Rebecca Block, published in January 1984, it was observed that criminal activity tends to increase during the summer months, with the exception of December. To better understand this phenomenon and potentially identify any patterns or trends in criminal activity, we decided to perform an analysis on the feature screening_date.\n",
    "\n",
    "In order to gain deeper insights into the data, we decided to split the feature screening_date into three separate components: year, month, and day. This allowed us to more effectively identify any correlations between the timing of criminal activity and other factors such as weather patterns or societal events.\n",
    "\n",
    "The results of this data splitting revealed several interesting trends. For example, we found that criminal activity tended to be highest during the summer months, with a peak in the month of July. Additionally, we observed that certain types of crime were more prevalent during specific times of the year, such as property crimes being more common in the winter months."
   ]
  },
  {
   "cell_type": "code",
   "execution_count": 49,
   "id": "5d5fb979-40b2-44f5-8375-832a146ce020",
   "metadata": {},
   "outputs": [],
   "source": [
    "screening_date = pd.to_datetime(crime_data.screening_date)\n",
    "crime_data[\"year\"] = screening_date.dt.year\n",
    "crime_data[\"month\"] = screening_date.dt.month\n",
    "crime_data[\"day\"] = screening_date.dt.day\n",
    "crime_data.drop(labels='screening_date', axis=1, inplace=True)"
   ]
  },
  {
   "cell_type": "code",
   "execution_count": 50,
   "id": "01efafdf-1a68-4732-8f3e-d7d19f31e3c1",
   "metadata": {},
   "outputs": [
    {
     "data": {
      "text/html": [
       "<div>\n",
       "<style scoped>\n",
       "    .dataframe tbody tr th:only-of-type {\n",
       "        vertical-align: middle;\n",
       "    }\n",
       "\n",
       "    .dataframe tbody tr th {\n",
       "        vertical-align: top;\n",
       "    }\n",
       "\n",
       "    .dataframe thead th {\n",
       "        text-align: right;\n",
       "    }\n",
       "</style>\n",
       "<table border=\"1\" class=\"dataframe\">\n",
       "  <thead>\n",
       "    <tr style=\"text-align: right;\">\n",
       "      <th></th>\n",
       "      <th>person_id</th>\n",
       "      <th>sex</th>\n",
       "      <th>race</th>\n",
       "      <th>age_at_current_charge</th>\n",
       "      <th>age_at_first_charge</th>\n",
       "      <th>p_charges</th>\n",
       "      <th>p_incarceration</th>\n",
       "      <th>p_probation</th>\n",
       "      <th>p_juv_fel_count</th>\n",
       "      <th>p_felprop_viol</th>\n",
       "      <th>...</th>\n",
       "      <th>felony_two_year</th>\n",
       "      <th>violent_two_year</th>\n",
       "      <th>drug_six_month</th>\n",
       "      <th>property_six_month</th>\n",
       "      <th>misdemeanor_six_month</th>\n",
       "      <th>felony_six_month</th>\n",
       "      <th>violent_six_month</th>\n",
       "      <th>year</th>\n",
       "      <th>month</th>\n",
       "      <th>day</th>\n",
       "    </tr>\n",
       "  </thead>\n",
       "  <tbody>\n",
       "    <tr>\n",
       "      <th>0</th>\n",
       "      <td>1001</td>\n",
       "      <td>1</td>\n",
       "      <td>African-American</td>\n",
       "      <td>45</td>\n",
       "      <td>19</td>\n",
       "      <td>39</td>\n",
       "      <td>1</td>\n",
       "      <td>3</td>\n",
       "      <td>0</td>\n",
       "      <td>3</td>\n",
       "      <td>...</td>\n",
       "      <td>0</td>\n",
       "      <td>0</td>\n",
       "      <td>0</td>\n",
       "      <td>0</td>\n",
       "      <td>0</td>\n",
       "      <td>0</td>\n",
       "      <td>0</td>\n",
       "      <td>2014</td>\n",
       "      <td>2</td>\n",
       "      <td>3</td>\n",
       "    </tr>\n",
       "    <tr>\n",
       "      <th>1</th>\n",
       "      <td>101</td>\n",
       "      <td>1</td>\n",
       "      <td>Hispanic</td>\n",
       "      <td>42</td>\n",
       "      <td>26</td>\n",
       "      <td>9</td>\n",
       "      <td>1</td>\n",
       "      <td>0</td>\n",
       "      <td>0</td>\n",
       "      <td>0</td>\n",
       "      <td>...</td>\n",
       "      <td>0</td>\n",
       "      <td>1</td>\n",
       "      <td>0</td>\n",
       "      <td>0</td>\n",
       "      <td>0</td>\n",
       "      <td>0</td>\n",
       "      <td>0</td>\n",
       "      <td>2013</td>\n",
       "      <td>1</td>\n",
       "      <td>13</td>\n",
       "    </tr>\n",
       "    <tr>\n",
       "      <th>2</th>\n",
       "      <td>101</td>\n",
       "      <td>1</td>\n",
       "      <td>Hispanic</td>\n",
       "      <td>43</td>\n",
       "      <td>26</td>\n",
       "      <td>15</td>\n",
       "      <td>1</td>\n",
       "      <td>0</td>\n",
       "      <td>0</td>\n",
       "      <td>1</td>\n",
       "      <td>...</td>\n",
       "      <td>0</td>\n",
       "      <td>0</td>\n",
       "      <td>0</td>\n",
       "      <td>0</td>\n",
       "      <td>0</td>\n",
       "      <td>0</td>\n",
       "      <td>0</td>\n",
       "      <td>2014</td>\n",
       "      <td>2</td>\n",
       "      <td>2</td>\n",
       "    </tr>\n",
       "    <tr>\n",
       "      <th>3</th>\n",
       "      <td>1015</td>\n",
       "      <td>1</td>\n",
       "      <td>African-American</td>\n",
       "      <td>35</td>\n",
       "      <td>19</td>\n",
       "      <td>47</td>\n",
       "      <td>1</td>\n",
       "      <td>3</td>\n",
       "      <td>0</td>\n",
       "      <td>3</td>\n",
       "      <td>...</td>\n",
       "      <td>0</td>\n",
       "      <td>0</td>\n",
       "      <td>0</td>\n",
       "      <td>0</td>\n",
       "      <td>0</td>\n",
       "      <td>0</td>\n",
       "      <td>0</td>\n",
       "      <td>2014</td>\n",
       "      <td>1</td>\n",
       "      <td>22</td>\n",
       "    </tr>\n",
       "    <tr>\n",
       "      <th>4</th>\n",
       "      <td>1016</td>\n",
       "      <td>1</td>\n",
       "      <td>Other</td>\n",
       "      <td>27</td>\n",
       "      <td>18</td>\n",
       "      <td>11</td>\n",
       "      <td>1</td>\n",
       "      <td>2</td>\n",
       "      <td>0</td>\n",
       "      <td>3</td>\n",
       "      <td>...</td>\n",
       "      <td>1</td>\n",
       "      <td>1</td>\n",
       "      <td>0</td>\n",
       "      <td>0</td>\n",
       "      <td>0</td>\n",
       "      <td>1</td>\n",
       "      <td>1</td>\n",
       "      <td>2013</td>\n",
       "      <td>4</td>\n",
       "      <td>15</td>\n",
       "    </tr>\n",
       "  </tbody>\n",
       "</table>\n",
       "<p>5 rows × 54 columns</p>\n",
       "</div>"
      ],
      "text/plain": [
       "   person_id  sex              race  age_at_current_charge  \\\n",
       "0       1001    1  African-American                     45   \n",
       "1        101    1          Hispanic                     42   \n",
       "2        101    1          Hispanic                     43   \n",
       "3       1015    1  African-American                     35   \n",
       "4       1016    1             Other                     27   \n",
       "\n",
       "   age_at_first_charge  p_charges  p_incarceration  p_probation  \\\n",
       "0                   19         39                1            3   \n",
       "1                   26          9                1            0   \n",
       "2                   26         15                1            0   \n",
       "3                   19         47                1            3   \n",
       "4                   18         11                1            2   \n",
       "\n",
       "   p_juv_fel_count  p_felprop_viol  ...  felony_two_year  violent_two_year  \\\n",
       "0                0               3  ...                0                 0   \n",
       "1                0               0  ...                0                 1   \n",
       "2                0               1  ...                0                 0   \n",
       "3                0               3  ...                0                 0   \n",
       "4                0               3  ...                1                 1   \n",
       "\n",
       "   drug_six_month  property_six_month  misdemeanor_six_month  \\\n",
       "0               0                   0                      0   \n",
       "1               0                   0                      0   \n",
       "2               0                   0                      0   \n",
       "3               0                   0                      0   \n",
       "4               0                   0                      0   \n",
       "\n",
       "   felony_six_month  violent_six_month  year  month  day  \n",
       "0                 0                  0  2014      2    3  \n",
       "1                 0                  0  2013      1   13  \n",
       "2                 0                  0  2014      2    2  \n",
       "3                 0                  0  2014      1   22  \n",
       "4                 1                  1  2013      4   15  \n",
       "\n",
       "[5 rows x 54 columns]"
      ]
     },
     "execution_count": 50,
     "metadata": {},
     "output_type": "execute_result"
    }
   ],
   "source": [
    "crime_data.head(5)"
   ]
  },
  {
   "cell_type": "markdown",
   "id": "33819c8b-2deb-4511-9e52-8c7ed50727be",
   "metadata": {
    "user_expressions": []
   },
   "source": [
    "#### Convert string features to integer\n",
    "\n",
    "The feature “race” in our dataset was initially stored as a string, which could cause issues when analyzing and modeling the data. To address this, we converted the “race” feature to an integer data type, where each unique race was assigned a specific number. The purpose of this conversion was to make the data more standardized and easier to process.\n",
    "\n",
    "By converting the “race” feature to an integer, we were able to perform statistical analysis and machine learning algorithms more efficiently. This transformation allowed us to compare and contrast different races in a consistent and meaningful way. Furthermore, by using numerical values to represent the races, we were able to reduce the risk of data entry errors and enhance the accuracy of our analyses.\n",
    "\n",
    "The resulting plots after the conversion of the “race” feature provide a visual representation of the distribution of each race in our dataset. These plots enable us to gain insights into the prevalence of each race in our data, as well as identify any potential biases or imbalances that may exist. Overall, the conversion of the “race” feature to an integer was a critical step in preparing our data for further analysis and modeling."
   ]
  },
  {
   "cell_type": "code",
   "execution_count": 51,
   "id": "46f2ca91-c18b-402e-b0ff-6667209d13c2",
   "metadata": {},
   "outputs": [
    {
     "data": {
      "text/plain": [
       "0     African-American\n",
       "1             Hispanic\n",
       "2             Hispanic\n",
       "3     African-American\n",
       "4                Other\n",
       "5                Other\n",
       "6             Hispanic\n",
       "7     African-American\n",
       "8             Hispanic\n",
       "9     African-American\n",
       "10    African-American\n",
       "11    African-American\n",
       "12    African-American\n",
       "13           Caucasian\n",
       "14    African-American\n",
       "15    African-American\n",
       "16    African-American\n",
       "17    African-American\n",
       "18    African-American\n",
       "19           Caucasian\n",
       "Name: race, dtype: object"
      ]
     },
     "execution_count": 51,
     "metadata": {},
     "output_type": "execute_result"
    }
   ],
   "source": [
    "crime_data.race.head(20)"
   ]
  },
  {
   "cell_type": "code",
   "execution_count": 52,
   "id": "693b3df1-aac3-44fa-8aef-9fa60552c1a1",
   "metadata": {},
   "outputs": [],
   "source": [
    "race_dict = crime_data['race'].unique().tolist()\n",
    "crime_data['race'] = crime_data['race'].apply(lambda x: race_dict.index(x))"
   ]
  },
  {
   "cell_type": "code",
   "execution_count": 53,
   "id": "e1089893-bd49-406f-99e6-a3200bdfc3d3",
   "metadata": {},
   "outputs": [
    {
     "data": {
      "text/plain": [
       "0     0\n",
       "1     1\n",
       "2     1\n",
       "3     0\n",
       "4     2\n",
       "5     2\n",
       "6     1\n",
       "7     0\n",
       "8     1\n",
       "9     0\n",
       "10    0\n",
       "11    0\n",
       "12    0\n",
       "13    3\n",
       "14    0\n",
       "15    0\n",
       "16    0\n",
       "17    0\n",
       "18    0\n",
       "19    3\n",
       "Name: race, dtype: int64"
      ]
     },
     "execution_count": 53,
     "metadata": {},
     "output_type": "execute_result"
    }
   ],
   "source": [
    "crime_data.race.head(20)"
   ]
  },
  {
   "cell_type": "code",
   "execution_count": 54,
   "id": "d4885e49-fad7-404d-a942-c3c5e555e6b7",
   "metadata": {},
   "outputs": [
    {
     "data": {
      "image/png": "[encoded data removed]",
      "text/plain": [
       "<Figure size 640x480 with 1 Axes>"
      ]
     },
     "metadata": {},
     "output_type": "display_data"
    }
   ],
   "source": [
    "# Group the data by race and count the occurrences\n",
    "race_count = crime_data.groupby('race').size()\n",
    "# Plot the distribution of races using a bar chart\n",
    "plt.bar(race_count.index, race_count.values, color = 'lightblue')\n",
    "plt.xlabel('Race')\n",
    "plt.ylabel('Count')\n",
    "plt.title('Distribution of Races in Crime Data')\n",
    "plt.savefig('figures/figure1.png')\n",
    "plt.show()"
   ]
  },
  {
   "cell_type": "markdown",
   "id": "83223807-493a-4e17-b537-b782165c91c5",
   "metadata": {
    "user_expressions": []
   },
   "source": [
    "#### Convert long tail distribution to normal distribution by log transformation.\n",
    "During the exploratory data analysis phase, we noticed that some of our dataset’s features had a long-tail distribution. Long-tailed distributions can cause issues with statistical analysis and modeling, as they may violate the assumptions of normality and homoscedasticity. Therefore, to address this issue, we applied a log-transformation to these features.\n",
    "\n",
    "The log-transformation is a common technique used to normalize long-tailed data and make it more suitable for analysis. By applying a logarithmic function to the data, we were able to compress the values of the long-tailed distribution and obtain a more normally distributed feature.\n",
    "\n",
    "However, applying the log function to zero-valued data can cause errors, as the logarithmic function is undefined at zero. Therefore, we added a small constant of 1 to all features to ensure that there were no zero values in our dataset. This prevented any errors from occurring during the log- transformation process.\n",
    "\n",
    "To illustrate the effects of the log-transformation, we created histograms of two example features before and after the transformation. The histograms show the distribution of the feature values before and after applying the log function, respectively. As seen in the histograms, the log-transformation effectively reduced the skewness of the distribution and made it more symmetric and normally distributed. This normalization will enable us to perform more accurate statistical analyses and develop better predictive models based on the transformed features."
   ]
  },
  {
   "cell_type": "code",
   "execution_count": 55,
   "id": "02fab97b-8c6a-4531-8e69-c3a82d7b025d",
   "metadata": {},
   "outputs": [
    {
     "data": {
      "image/png": "[encoded data removed]",
      "text/plain": [
       "<Figure size 900x500 with 2 Axes>"
      ]
     },
     "metadata": {},
     "output_type": "display_data"
    }
   ],
   "source": [
    "fig, axes = plt.subplots(figsize=(9,5),ncols=2, nrows=1)\n",
    "\n",
    "#Figures before log trans\n",
    "hist_features = [\"total_convictions\", \"p_pending_charge\"]\n",
    "for k, feature in enumerate(hist_features):\n",
    "    ax = axes[k]\n",
    "    ax.set_title(feature)\n",
    "    crime_data[feature].plot(kind=\"hist\", ax=ax)\n",
    "plt.tight_layout()\n",
    "plt.savefig('figures/figure2.png')\n",
    "plt.show()"
   ]
  },
  {
   "cell_type": "code",
   "execution_count": 56,
   "id": "e0726b1e-cad0-4218-b79a-4bcb1d7ff5fb",
   "metadata": {},
   "outputs": [
    {
     "data": {
      "image/png": "[encoded data removed]",
      "text/plain": [
       "<Figure size 900x500 with 2 Axes>"
      ]
     },
     "metadata": {},
     "output_type": "display_data"
    }
   ],
   "source": [
    "# figures after log transform\n",
    "crime_data[\"total_convictions\"] = np.log(crime_data[\"total_convictions\"].values + 1)\n",
    "crime_data[\"p_pending_charge\"] = np.log(crime_data[\"p_pending_charge\"].values + 1)\n",
    "\n",
    "fig, axes = plt.subplots(figsize=(9, 5), ncols=2, nrows=1)\n",
    "\n",
    "hist_features = [ \"total_convictions\", \"p_pending_charge\"]\n",
    "for k, feature in enumerate(hist_features):\n",
    "    ax = axes[k]\n",
    "    ax.set_title(feature)\n",
    "    crime_data[feature].plot(kind=\"hist\", ax=ax)\n",
    "plt.tight_layout()\n",
    "plt.savefig('figures/figure3.png')\n",
    "plt.show()"
   ]
  },
  {
   "cell_type": "markdown",
   "id": "5737e861-6c7d-4248-ad99-3256e6b5a878",
   "metadata": {
    "user_expressions": []
   },
   "source": [
    "#### Remove features with low standard deviation\n",
    "\n",
    "When working with machine learning models, it is important to identify and remove features that have little to no impact on the output or target variable. One way to do this is by analyzing the standard deviation of each feature in the dataset. Standard deviation is a measure of how spread out the data is from the mean value. If a feature has a small standard deviation, it means that the values are clustered closely around the mean, and there is not much variation in the data.\n",
    "\n",
    "By computing the standard deviation of all features in our dataset, we were able to identify which features had small standard deviations. These features are often referred to as low-variance features. Low-variance features are barely separable and can lead to overfitting in machine learning models. Overfitting occurs when a model becomes too complex and captures the noise in the data rather than the underlying patterns, leading to poor performance on new data.\n",
    "\n",
    "To address this issue, we chose to remove the low-variance features from our dataset before training machine learning models. By doing so, we were able to improve the accuracy and generalizability of our models, as well as reduce the risk of overfitting. This process of identifying and removing low- variance features is known as feature selection and is a crucial step in preparing data for machine learning."
   ]
  },
  {
   "cell_type": "code",
   "execution_count": 57,
   "id": "c40215bb-f83f-47ff-b27e-c84cd4ac3b74",
   "metadata": {},
   "outputs": [],
   "source": [
    "label_columns = [\"general_two_year\", \"general_six_month\", \"drug_two_year\", \"property_two_year\", \"misdemeanor_two_year\",\n",
    "                 \"felony_two_year\", \"violent_two_year\", \"drug_six_month\", \"property_six_month\", \"misdemeanor_six_month\",\n",
    "                 \"felony_six_month\", \"violent_six_month\"]\n",
    "\n",
    "features_columns = crime_data.columns.tolist()\n",
    "x = utils.prepare_features(crime_data, label_columns, features_columns)"
   ]
  },
  {
   "cell_type": "code",
   "execution_count": 58,
   "id": "31afe694-300c-4b92-aae0-9e9484d105f9",
   "metadata": {},
   "outputs": [],
   "source": [
    "# #Original cell\n",
    "# label_columns = [\"general_two_year\", \"general_six_month\", \"drug_two_year\", \"property_two_year\", \"misdemeanor_two_year\",\n",
    "#                  \"felony_two_year\", \"violent_two_year\", \"drug_six_month\", \"property_six_month\", \"misdemeanor_six_month\",\n",
    "#                  \"felony_six_month\", \"violent_six_month\"]\n",
    "# drop_features = [\"person_id\"] + label_columns\n",
    "# features_columns = crime_data.columns.tolist()\n",
    "# for x in drop_features:\n",
    "#     features_columns.remove(x)\n",
    "# x = crime_data.loc[:, features_columns]"
   ]
  },
  {
   "cell_type": "code",
   "execution_count": 59,
   "id": "f70def2e-13d9-4c7d-8245-dd2eb012e919",
   "metadata": {},
   "outputs": [
    {
     "name": "stdout",
     "output_type": "stream",
     "text": [
      "sex                       0.334681\n",
      "race                      1.379372\n",
      "age_at_current_charge    11.008898\n",
      "age_at_first_charge       8.868941\n",
      "p_charges                11.223027\n",
      "p_incarceration           0.477588\n",
      "p_probation               1.481047\n",
      "p_juv_fel_count           0.708095\n",
      "p_felprop_viol            2.217787\n",
      "p_murder                  0.174411\n",
      "p_felassault              0.957249\n",
      "p_misdeassault            1.014631\n",
      "p_sex_offense             0.516139\n",
      "p_weapon                  0.632346\n",
      "p_fta_two_year            0.598511\n",
      "p_fta_two_year_plus       0.098334\n",
      "current_violence          0.499363\n",
      "current_violence20        0.255402\n",
      "p_pending_charge          1.100237\n",
      "p_felony                  3.290550\n",
      "p_misdemeanor             4.294165\n",
      "p_violence                3.323527\n",
      "total_convictions         0.904258\n",
      "p_arrest                  6.246491\n",
      "p_property                4.150365\n",
      "p_traffic                 0.602952\n",
      "p_drug                    3.691064\n",
      "p_dui                     0.998764\n",
      "p_domestic                0.166743\n",
      "p_stalking                0.168437\n",
      "p_voyeurism               1.335258\n",
      "p_fraud                   0.168437\n",
      "p_stealing                3.833058\n",
      "p_trespass                1.800541\n",
      "six_month                 0.476296\n",
      "one_year                  0.500124\n",
      "three_year                0.419812\n",
      "five_year                 0.316798\n",
      "year                      0.379648\n",
      "month                     3.678154\n",
      "day                       8.534939\n",
      "dtype: float64\n"
     ]
    }
   ],
   "source": [
    "print(x.std())"
   ]
  },
  {
   "cell_type": "code",
   "execution_count": 60,
   "id": "c2aee6fe-1b2e-44f5-9a58-8efa2bfcc08a",
   "metadata": {},
   "outputs": [
    {
     "name": "stdout",
     "output_type": "stream",
     "text": [
      "sex                       0.334681\n",
      "race                      1.379372\n",
      "age_at_current_charge    11.008898\n",
      "age_at_first_charge       8.868941\n",
      "p_charges                11.223027\n",
      "p_incarceration           0.477588\n",
      "p_probation               1.481047\n",
      "p_juv_fel_count           0.708095\n",
      "p_felprop_viol            2.217787\n",
      "p_murder                  0.174411\n",
      "p_felassault              0.957249\n",
      "p_misdeassault            1.014631\n",
      "p_sex_offense             0.516139\n",
      "p_weapon                  0.632346\n",
      "p_fta_two_year            0.598511\n",
      "p_fta_two_year_plus       0.098334\n",
      "current_violence          0.499363\n",
      "current_violence20        0.255402\n",
      "p_pending_charge          1.100237\n",
      "p_felony                  3.290550\n",
      "p_misdemeanor             4.294165\n",
      "p_violence                3.323527\n",
      "total_convictions         0.904258\n",
      "p_arrest                  6.246491\n",
      "p_property                4.150365\n",
      "p_traffic                 0.602952\n",
      "p_drug                    3.691064\n",
      "p_dui                     0.998764\n",
      "p_domestic                0.166743\n",
      "p_stalking                0.168437\n",
      "p_voyeurism               1.335258\n",
      "p_fraud                   0.168437\n",
      "p_stealing                3.833058\n",
      "p_trespass                1.800541\n",
      "six_month                 0.476296\n",
      "one_year                  0.500124\n",
      "three_year                0.419812\n",
      "five_year                 0.316798\n",
      "year                      0.379648\n",
      "month                     3.678154\n",
      "day                       8.534939\n",
      "dtype: float64\n",
      "['p_fraud', 'current_violence20', 'p_murder', 'p_fta_two_year_plus', 'p_stalking', 'p_domestic']\n"
     ]
    }
   ],
   "source": [
    "## choose top 35 features with higher sd\n",
    "select_feature_num = np.argsort(x.std().values)[::-1][:35]\n",
    "print(x.std())\n",
    "select_feature = x.columns[select_feature_num]\n",
    "drop_features = list(set(features_columns).difference(set(select_feature)))\n",
    "print(drop_features)  # print removed features\n",
    "x = x.loc[:, select_feature]"
   ]
  },
  {
   "cell_type": "code",
   "execution_count": 61,
   "id": "8c2ceb99-7167-4ced-897b-abeb7c7e4853",
   "metadata": {},
   "outputs": [
    {
     "name": "stdout",
     "output_type": "stream",
     "text": [
      "p_charges                11.223027\n",
      "age_at_current_charge    11.008898\n",
      "age_at_first_charge       8.868941\n",
      "day                       8.534939\n",
      "p_arrest                  6.246491\n",
      "p_misdemeanor             4.294165\n",
      "p_property                4.150365\n",
      "p_stealing                3.833058\n",
      "p_drug                    3.691064\n",
      "month                     3.678154\n",
      "p_violence                3.323527\n",
      "p_felony                  3.290550\n",
      "p_felprop_viol            2.217787\n",
      "p_trespass                1.800541\n",
      "p_probation               1.481047\n",
      "race                      1.379372\n",
      "p_voyeurism               1.335258\n",
      "p_pending_charge          1.100237\n",
      "p_misdeassault            1.014631\n",
      "p_dui                     0.998764\n",
      "p_felassault              0.957249\n",
      "total_convictions         0.904258\n",
      "p_juv_fel_count           0.708095\n",
      "p_weapon                  0.632346\n",
      "p_traffic                 0.602952\n",
      "p_fta_two_year            0.598511\n",
      "p_sex_offense             0.516139\n",
      "one_year                  0.500124\n",
      "current_violence          0.499363\n",
      "p_incarceration           0.477588\n",
      "six_month                 0.476296\n",
      "three_year                0.419812\n",
      "year                      0.379648\n",
      "sex                       0.334681\n",
      "five_year                 0.316798\n",
      "dtype: float64\n"
     ]
    }
   ],
   "source": [
    "print(x.std()) # sd of features keeped"
   ]
  },
  {
   "cell_type": "markdown",
   "id": "fae6fb62-778f-4331-ac90-635229f21fea",
   "metadata": {
    "user_expressions": []
   },
   "source": [
    "#### remove sparse features\n",
    "\n",
    "Removing the sparse features was a crucial step in preparing our dataset for further analysis and modeling. In our dataset, some features contain mostly zero values, with only a small number of non-zero values. These sparse features can negatively impact the performance of our machine learning models and the interpretability of our analyses. Therefore, we decided to remove these sparse features from our dataset.\n",
    "\n",
    "To identify the sparse features, we calculated the percentage of zero values for each feature and created a plot to visualize this information. Any feature with a percentage of zero values larger than 90% was considered too sparse and was removed from our dataset.\n",
    "\n",
    "Based on this criterion, we identified five features that were too sparse: “p_voyeurism”, “p_juv_fel_count”, “p_traffic”, “p_fta_two_year”, and “p_sex_offense”. These features were removed from our dataset, leaving us with 30 features.\n",
    "\n",
    "By removing the sparse features, we were able to reduce the dimensionality of our dataset, which can improve the performance of machine learning algorithms and reduce overfitting. Furthermore, by focusing on the features with more non-zero values, we can gain insights into the important factors that contribute to the outcome variable in our analysis."
   ]
  },
  {
   "cell_type": "code",
   "execution_count": 62,
   "id": "ccf640f2-8fa3-4ce5-b3fb-7f48bc360e4e",
   "metadata": {},
   "outputs": [
    {
     "name": "stdout",
     "output_type": "stream",
     "text": [
      "[0.00000000e+00 0.00000000e+00 5.11770727e-04 0.00000000e+00\n",
      " 8.18833163e-03 2.04708291e-01 4.18116684e-01 4.77993859e-01\n",
      " 4.19140225e-01 0.00000000e+00 4.12487206e-01 4.85158649e-01\n",
      " 6.00818833e-01 6.71443193e-01 5.36335722e-01 5.75230297e-01\n",
      " 9.97952917e-01 3.69498465e-01 6.00307062e-01 8.51074719e-01\n",
      " 7.41555783e-01 1.23336745e-01 9.54452405e-01 8.98157625e-01\n",
      " 9.26305015e-01 9.01740020e-01 9.89764585e-01 4.97952917e-01\n",
      " 4.72364381e-01 6.48413511e-01 6.52507677e-01 2.28249744e-01\n",
      " 0.00000000e+00 1.28454452e-01 1.13101331e-01]\n",
      "[ True  True  True  True  True  True  True  True  True  True  True  True\n",
      "  True  True  True  True False  True  True  True  True  True False  True\n",
      " False False False  True  True  True  True  True  True  True  True]\n",
      "Index(['p_voyeurism', 'p_juv_fel_count', 'p_traffic', 'p_fta_two_year',\n",
      "       'p_sex_offense'],\n",
      "      dtype='object')\n"
     ]
    }
   ],
   "source": [
    "feature_sparse_r = 0.9 # if the percentage of zeros is larger than 0.9 then remove.\n",
    "\n",
    "# def remove_sparse_features(data, feature_r):\n",
    "#     x = data\n",
    "#     x_num = x.shape[0]\n",
    "#     feature_num = x.shape[1]\n",
    "#     feature_no_zero_num = np.sum([x == 0], 1)[0]\n",
    "#     feature_list =  feature_no_zero_num / x_num\n",
    "#     select_feature_sparse = x.columns[feature_list < feature_r]\n",
    "#     drop_feature_sparse = x.columns[feature_list > feature_r]\n",
    "#     x = x.loc[:, select_feature_sparse]\n",
    "#     return feature_list, x, drop_feature_sparse\n",
    "\n",
    "feature_sparse_r_list, x, drop_feature_sparse  = utils.remove_sparse_features(x, feature_sparse_r)\n",
    "print(feature_sparse_r_list)\n",
    "print(feature_sparse_r_list < feature_sparse_r)\n",
    "print(drop_feature_sparse)"
   ]
  },
  {
   "cell_type": "code",
   "execution_count": 63,
   "id": "83141f6b-d79a-4fbd-b762-f19f11cdc3f7",
   "metadata": {},
   "outputs": [],
   "source": [
    "#Original cell\n",
    "\n",
    "# x_num = x.shape[0]\n",
    "# feature_num = x.shape[1]\n",
    "# feature_no_zero_num = np.sum([x == 0], 1)[0]\n",
    "# feature_sparse_r = 0.9 # if the percentage of zeros is larger than 0.9 then remove.\n",
    "# feature_sparse_r_list =  feature_no_zero_num/x_num\n",
    "# print(feature_sparse_r_list)\n",
    "# print(feature_sparse_r_list < feature_sparse_r)\n",
    "# # features kept\n",
    "# select_feature_sparse = x.columns[feature_sparse_r_list < feature_sparse_r]\n",
    "# # features removed\n",
    "# drop_feature_sparse = x.columns[feature_sparse_r_list > feature_sparse_r]\n",
    "# print(drop_feature_sparse)\n",
    "# x = x.loc[:, select_feature_sparse]"
   ]
  },
  {
   "cell_type": "markdown",
   "id": "6d737e4b-5fcd-4175-83c6-a63048b49dd6",
   "metadata": {
    "user_expressions": []
   },
   "source": [
    "#### Outliers detection\n",
    "\n",
    "In data analysis, outliers are data points that deviate significantly from the rest of the data. These values can have a disproportionate effect on statistical measures such as the mean and standard deviation, and can therefore distort the analysis and modeling results. Hence, it is important to identify and handle outliers appropriately.\n",
    "To address this, we performed a z-score analysis on our dataset to identify any outliers. Z-score analysis involves standardizing the data by subtracting the mean and dividing by the standard deviation. Any data point with a z-score greater than 3 is considered an outlier.\n",
    "\n",
    "To handle these outliers, we chose to change their values to have a z-score of exactly 3. This approach is known as winsorizing, which involves capping the extreme values of the data to a predetermined value. By setting the z-score of outliers to 3, we are effectively limiting the effect of these values on the analysis and modeling results, while still preserving their relative position within the data.\n",
    "The purpose of this action is to improve the accuracy and robustness of our data analysis and modeling. Outliers can skew the results of statistical measures, such as correlation coefficients and regression analyses, which can lead to incorrect conclusions and predictions. By handling outliers appropriately, we can ensure that our models are based on reliable and meaningful data.\n",
    "\n",
    "Furthermore, identifying outliers and handling them appropriately is an important step in preparing the data for machine learning algorithms. Outliers can have a significant impact on the performance of machine learning models, as they can cause overfitting or underfitting, and lead to poor gener- alization. Therefore, removing or modifying outliers can improve the accuracy and generalization performance of the machine learning models.\n",
    "\n",
    "In conclusion, identifying and handling outliers is an important step in data analysis and modeling. By capping the z-scores of outliers to 3, we are preserving the relative position of these data points while minimizing their impact on the analysis and modeling results. This helps to ensure that our models are based on reliable and meaningful data, and can improve their accuracy and generalization performance."
   ]
  },
  {
   "cell_type": "code",
   "execution_count": 64,
   "id": "60ab5451-0deb-408e-8273-16f3a4e829f0",
   "metadata": {
    "tags": [],
    "user_expressions": []
   },
   "outputs": [
    {
     "name": "stdout",
     "output_type": "stream",
     "text": [
      "         p_charges  age_at_current_charge  age_at_first_charge          day  \\\n",
      "count  1954.000000            1954.000000          1954.000000  1954.000000   \n",
      "mean     11.228762              31.971853            23.956499    15.436540   \n",
      "std      11.223027              11.008898             8.868941     8.534939   \n",
      "min       2.000000              18.000000             0.000000     1.000000   \n",
      "25%       4.000000              23.000000            18.000000     8.000000   \n",
      "50%       8.000000              29.000000            20.000000    16.000000   \n",
      "75%      14.000000              39.000000            27.000000    22.000000   \n",
      "max     218.000000              69.000000            60.000000    31.000000   \n",
      "\n",
      "          p_arrest  p_misdemeanor   p_property   p_stealing       p_drug  \\\n",
      "count  1954.000000    1954.000000  1954.000000  1954.000000  1954.000000   \n",
      "mean      5.907881       3.303480     2.301433     1.961617     2.432446   \n",
      "std       6.246491       4.294165     4.150365     3.833058     3.691064   \n",
      "min       0.000000       0.000000     0.000000     0.000000     0.000000   \n",
      "25%       2.000000       1.000000     0.000000     0.000000     0.000000   \n",
      "50%       3.000000       2.000000     1.000000     1.000000     1.000000   \n",
      "75%       7.000000       4.000000     3.000000     2.000000     3.000000   \n",
      "max      46.000000      57.000000    50.000000    50.000000    29.000000   \n",
      "\n",
      "             month  ...  total_convictions     p_weapon     one_year  \\\n",
      "count  1954.000000  ...        1954.000000  1954.000000  1954.000000   \n",
      "mean      5.126407  ...           1.426610     0.169396     0.502047   \n",
      "std       3.678154  ...           0.904258     0.632346     0.500124   \n",
      "min       1.000000  ...           0.000000     0.000000     0.000000   \n",
      "25%       2.000000  ...           0.693147     0.000000     0.000000   \n",
      "50%       4.000000  ...           1.386294     0.000000     1.000000   \n",
      "75%       9.000000  ...           2.079442     0.000000     1.000000   \n",
      "max      12.000000  ...           4.110874     9.000000     1.000000   \n",
      "\n",
      "       current_violence  p_incarceration    six_month   three_year  \\\n",
      "count       1954.000000      1954.000000  1954.000000  1954.000000   \n",
      "mean           0.527636         0.351586     0.347492     0.771750   \n",
      "std            0.499363         0.477588     0.476296     0.419812   \n",
      "min            0.000000         0.000000     0.000000     0.000000   \n",
      "25%            0.000000         0.000000     0.000000     1.000000   \n",
      "50%            1.000000         0.000000     0.000000     1.000000   \n",
      "75%            1.000000         1.000000     1.000000     1.000000   \n",
      "max            1.000000         1.000000     1.000000     1.000000   \n",
      "\n",
      "              year          sex    five_year  \n",
      "count  1954.000000  1954.000000  1954.000000  \n",
      "mean   2013.174514     0.871546     0.886899  \n",
      "std       0.379648     0.334681     0.316798  \n",
      "min    2013.000000     0.000000     0.000000  \n",
      "25%    2013.000000     1.000000     1.000000  \n",
      "50%    2013.000000     1.000000     1.000000  \n",
      "75%    2013.000000     1.000000     1.000000  \n",
      "max    2014.000000     1.000000     1.000000  \n",
      "\n",
      "[8 rows x 30 columns]\n"
     ]
    }
   ],
   "source": [
    "# find features with outliers\n",
    "print(x.describe())\n",
    "outlier_features_list = [\"p_charges\",\"p_arrest\",\"p_misdemeanor\",\n",
    "                         \"p_property\",\"p_stealing\",\"p_drug\",\"p_violence\",\"p_felony\",\n",
    "                         \"p_felprop_viol\",\"p_trespass\",\"p_probation\",\n",
    "                         \"p_misdeassault\",\"p_dui\",\"p_felassault\",\"p_weapon\"]\n",
    "\n",
    "\n",
    "\n",
    "x = utils.remove_outliers(x, outlier_features_list)"
   ]
  },
  {
   "cell_type": "code",
   "execution_count": 65,
   "id": "53ff2546-87e8-430a-9372-f8399920ae10",
   "metadata": {},
   "outputs": [],
   "source": [
    "# find features with outliers\n",
    "# print(x.describe())\n",
    "# outlier_features_list = [\"p_charges\",\"p_arrest\",\"p_misdemeanor\",\n",
    "#                          \"p_property\",\"p_stealing\",\"p_drug\",\"p_violence\",\"p_felony\",\n",
    "#                          \"p_felprop_viol\",\"p_trespass\",\"p_probation\",\n",
    "#                          \"p_misdeassault\",\"p_dui\",\"p_felassault\",\"p_weapon\"]\n",
    "# # change the values of outliers.\n",
    "# for feature in outlier_features_list:\n",
    "#     feature_data = x[feature]\n",
    "#     mean = x[feature].mean()\n",
    "#     std = x[feature].std()\n",
    "#     mean_3_std = mean + 3 * std\n",
    "#     x.loc[x[feature] > mean_3_std, feature] = mean_3_std"
   ]
  },
  {
   "cell_type": "code",
   "execution_count": 66,
   "id": "9b479a74-8990-436a-8f63-0020dcab836a",
   "metadata": {},
   "outputs": [
    {
     "data": {
      "text/html": [
       "<div>\n",
       "<style scoped>\n",
       "    .dataframe tbody tr th:only-of-type {\n",
       "        vertical-align: middle;\n",
       "    }\n",
       "\n",
       "    .dataframe tbody tr th {\n",
       "        vertical-align: top;\n",
       "    }\n",
       "\n",
       "    .dataframe thead th {\n",
       "        text-align: right;\n",
       "    }\n",
       "</style>\n",
       "<table border=\"1\" class=\"dataframe\">\n",
       "  <thead>\n",
       "    <tr style=\"text-align: right;\">\n",
       "      <th></th>\n",
       "      <th>p_charges</th>\n",
       "      <th>age_at_current_charge</th>\n",
       "      <th>age_at_first_charge</th>\n",
       "      <th>day</th>\n",
       "      <th>p_arrest</th>\n",
       "      <th>p_misdemeanor</th>\n",
       "      <th>p_property</th>\n",
       "      <th>p_stealing</th>\n",
       "      <th>p_drug</th>\n",
       "      <th>month</th>\n",
       "      <th>...</th>\n",
       "      <th>total_convictions</th>\n",
       "      <th>p_weapon</th>\n",
       "      <th>one_year</th>\n",
       "      <th>current_violence</th>\n",
       "      <th>p_incarceration</th>\n",
       "      <th>six_month</th>\n",
       "      <th>three_year</th>\n",
       "      <th>year</th>\n",
       "      <th>sex</th>\n",
       "      <th>five_year</th>\n",
       "    </tr>\n",
       "  </thead>\n",
       "  <tbody>\n",
       "    <tr>\n",
       "      <th>count</th>\n",
       "      <td>1954.000000</td>\n",
       "      <td>1954.000000</td>\n",
       "      <td>1954.000000</td>\n",
       "      <td>1954.000000</td>\n",
       "      <td>1954.000000</td>\n",
       "      <td>1954.000000</td>\n",
       "      <td>1954.000000</td>\n",
       "      <td>1954.000000</td>\n",
       "      <td>1954.000000</td>\n",
       "      <td>1954.000000</td>\n",
       "      <td>...</td>\n",
       "      <td>1954.000000</td>\n",
       "      <td>1954.000000</td>\n",
       "      <td>1954.000000</td>\n",
       "      <td>1954.000000</td>\n",
       "      <td>1954.000000</td>\n",
       "      <td>1954.000000</td>\n",
       "      <td>1954.000000</td>\n",
       "      <td>1954.000000</td>\n",
       "      <td>1954.000000</td>\n",
       "      <td>1954.000000</td>\n",
       "    </tr>\n",
       "    <tr>\n",
       "      <th>mean</th>\n",
       "      <td>10.996687</td>\n",
       "      <td>31.971853</td>\n",
       "      <td>23.956499</td>\n",
       "      <td>15.436540</td>\n",
       "      <td>5.786629</td>\n",
       "      <td>3.205290</td>\n",
       "      <td>2.120191</td>\n",
       "      <td>1.788900</td>\n",
       "      <td>2.330484</td>\n",
       "      <td>5.126407</td>\n",
       "      <td>...</td>\n",
       "      <td>1.426610</td>\n",
       "      <td>0.141177</td>\n",
       "      <td>0.502047</td>\n",
       "      <td>0.527636</td>\n",
       "      <td>0.351586</td>\n",
       "      <td>0.347492</td>\n",
       "      <td>0.771750</td>\n",
       "      <td>2013.174514</td>\n",
       "      <td>0.871546</td>\n",
       "      <td>0.886899</td>\n",
       "    </tr>\n",
       "    <tr>\n",
       "      <th>std</th>\n",
       "      <td>9.619147</td>\n",
       "      <td>11.008898</td>\n",
       "      <td>8.868941</td>\n",
       "      <td>8.534939</td>\n",
       "      <td>5.781292</td>\n",
       "      <td>3.737095</td>\n",
       "      <td>3.186592</td>\n",
       "      <td>2.883842</td>\n",
       "      <td>3.242971</td>\n",
       "      <td>3.678154</td>\n",
       "      <td>...</td>\n",
       "      <td>0.904258</td>\n",
       "      <td>0.448368</td>\n",
       "      <td>0.500124</td>\n",
       "      <td>0.499363</td>\n",
       "      <td>0.477588</td>\n",
       "      <td>0.476296</td>\n",
       "      <td>0.419812</td>\n",
       "      <td>0.379648</td>\n",
       "      <td>0.334681</td>\n",
       "      <td>0.316798</td>\n",
       "    </tr>\n",
       "    <tr>\n",
       "      <th>min</th>\n",
       "      <td>2.000000</td>\n",
       "      <td>18.000000</td>\n",
       "      <td>0.000000</td>\n",
       "      <td>1.000000</td>\n",
       "      <td>0.000000</td>\n",
       "      <td>0.000000</td>\n",
       "      <td>0.000000</td>\n",
       "      <td>0.000000</td>\n",
       "      <td>0.000000</td>\n",
       "      <td>1.000000</td>\n",
       "      <td>...</td>\n",
       "      <td>0.000000</td>\n",
       "      <td>0.000000</td>\n",
       "      <td>0.000000</td>\n",
       "      <td>0.000000</td>\n",
       "      <td>0.000000</td>\n",
       "      <td>0.000000</td>\n",
       "      <td>0.000000</td>\n",
       "      <td>2013.000000</td>\n",
       "      <td>0.000000</td>\n",
       "      <td>0.000000</td>\n",
       "    </tr>\n",
       "    <tr>\n",
       "      <th>25%</th>\n",
       "      <td>4.000000</td>\n",
       "      <td>23.000000</td>\n",
       "      <td>18.000000</td>\n",
       "      <td>8.000000</td>\n",
       "      <td>2.000000</td>\n",
       "      <td>1.000000</td>\n",
       "      <td>0.000000</td>\n",
       "      <td>0.000000</td>\n",
       "      <td>0.000000</td>\n",
       "      <td>2.000000</td>\n",
       "      <td>...</td>\n",
       "      <td>0.693147</td>\n",
       "      <td>0.000000</td>\n",
       "      <td>0.000000</td>\n",
       "      <td>0.000000</td>\n",
       "      <td>0.000000</td>\n",
       "      <td>0.000000</td>\n",
       "      <td>1.000000</td>\n",
       "      <td>2013.000000</td>\n",
       "      <td>1.000000</td>\n",
       "      <td>1.000000</td>\n",
       "    </tr>\n",
       "    <tr>\n",
       "      <th>50%</th>\n",
       "      <td>8.000000</td>\n",
       "      <td>29.000000</td>\n",
       "      <td>20.000000</td>\n",
       "      <td>16.000000</td>\n",
       "      <td>3.000000</td>\n",
       "      <td>2.000000</td>\n",
       "      <td>1.000000</td>\n",
       "      <td>1.000000</td>\n",
       "      <td>1.000000</td>\n",
       "      <td>4.000000</td>\n",
       "      <td>...</td>\n",
       "      <td>1.386294</td>\n",
       "      <td>0.000000</td>\n",
       "      <td>1.000000</td>\n",
       "      <td>1.000000</td>\n",
       "      <td>0.000000</td>\n",
       "      <td>0.000000</td>\n",
       "      <td>1.000000</td>\n",
       "      <td>2013.000000</td>\n",
       "      <td>1.000000</td>\n",
       "      <td>1.000000</td>\n",
       "    </tr>\n",
       "    <tr>\n",
       "      <th>75%</th>\n",
       "      <td>14.000000</td>\n",
       "      <td>39.000000</td>\n",
       "      <td>27.000000</td>\n",
       "      <td>22.000000</td>\n",
       "      <td>7.000000</td>\n",
       "      <td>4.000000</td>\n",
       "      <td>3.000000</td>\n",
       "      <td>2.000000</td>\n",
       "      <td>3.000000</td>\n",
       "      <td>9.000000</td>\n",
       "      <td>...</td>\n",
       "      <td>2.079442</td>\n",
       "      <td>0.000000</td>\n",
       "      <td>1.000000</td>\n",
       "      <td>1.000000</td>\n",
       "      <td>1.000000</td>\n",
       "      <td>1.000000</td>\n",
       "      <td>1.000000</td>\n",
       "      <td>2013.000000</td>\n",
       "      <td>1.000000</td>\n",
       "      <td>1.000000</td>\n",
       "    </tr>\n",
       "    <tr>\n",
       "      <th>max</th>\n",
       "      <td>44.897844</td>\n",
       "      <td>69.000000</td>\n",
       "      <td>60.000000</td>\n",
       "      <td>31.000000</td>\n",
       "      <td>24.647354</td>\n",
       "      <td>16.185976</td>\n",
       "      <td>14.752527</td>\n",
       "      <td>13.460790</td>\n",
       "      <td>13.505639</td>\n",
       "      <td>12.000000</td>\n",
       "      <td>...</td>\n",
       "      <td>4.110874</td>\n",
       "      <td>2.066435</td>\n",
       "      <td>1.000000</td>\n",
       "      <td>1.000000</td>\n",
       "      <td>1.000000</td>\n",
       "      <td>1.000000</td>\n",
       "      <td>1.000000</td>\n",
       "      <td>2014.000000</td>\n",
       "      <td>1.000000</td>\n",
       "      <td>1.000000</td>\n",
       "    </tr>\n",
       "  </tbody>\n",
       "</table>\n",
       "<p>8 rows × 30 columns</p>\n",
       "</div>"
      ],
      "text/plain": [
       "         p_charges  age_at_current_charge  age_at_first_charge          day  \\\n",
       "count  1954.000000            1954.000000          1954.000000  1954.000000   \n",
       "mean     10.996687              31.971853            23.956499    15.436540   \n",
       "std       9.619147              11.008898             8.868941     8.534939   \n",
       "min       2.000000              18.000000             0.000000     1.000000   \n",
       "25%       4.000000              23.000000            18.000000     8.000000   \n",
       "50%       8.000000              29.000000            20.000000    16.000000   \n",
       "75%      14.000000              39.000000            27.000000    22.000000   \n",
       "max      44.897844              69.000000            60.000000    31.000000   \n",
       "\n",
       "          p_arrest  p_misdemeanor   p_property   p_stealing       p_drug  \\\n",
       "count  1954.000000    1954.000000  1954.000000  1954.000000  1954.000000   \n",
       "mean      5.786629       3.205290     2.120191     1.788900     2.330484   \n",
       "std       5.781292       3.737095     3.186592     2.883842     3.242971   \n",
       "min       0.000000       0.000000     0.000000     0.000000     0.000000   \n",
       "25%       2.000000       1.000000     0.000000     0.000000     0.000000   \n",
       "50%       3.000000       2.000000     1.000000     1.000000     1.000000   \n",
       "75%       7.000000       4.000000     3.000000     2.000000     3.000000   \n",
       "max      24.647354      16.185976    14.752527    13.460790    13.505639   \n",
       "\n",
       "             month  ...  total_convictions     p_weapon     one_year  \\\n",
       "count  1954.000000  ...        1954.000000  1954.000000  1954.000000   \n",
       "mean      5.126407  ...           1.426610     0.141177     0.502047   \n",
       "std       3.678154  ...           0.904258     0.448368     0.500124   \n",
       "min       1.000000  ...           0.000000     0.000000     0.000000   \n",
       "25%       2.000000  ...           0.693147     0.000000     0.000000   \n",
       "50%       4.000000  ...           1.386294     0.000000     1.000000   \n",
       "75%       9.000000  ...           2.079442     0.000000     1.000000   \n",
       "max      12.000000  ...           4.110874     2.066435     1.000000   \n",
       "\n",
       "       current_violence  p_incarceration    six_month   three_year  \\\n",
       "count       1954.000000      1954.000000  1954.000000  1954.000000   \n",
       "mean           0.527636         0.351586     0.347492     0.771750   \n",
       "std            0.499363         0.477588     0.476296     0.419812   \n",
       "min            0.000000         0.000000     0.000000     0.000000   \n",
       "25%            0.000000         0.000000     0.000000     1.000000   \n",
       "50%            1.000000         0.000000     0.000000     1.000000   \n",
       "75%            1.000000         1.000000     1.000000     1.000000   \n",
       "max            1.000000         1.000000     1.000000     1.000000   \n",
       "\n",
       "              year          sex    five_year  \n",
       "count  1954.000000  1954.000000  1954.000000  \n",
       "mean   2013.174514     0.871546     0.886899  \n",
       "std       0.379648     0.334681     0.316798  \n",
       "min    2013.000000     0.000000     0.000000  \n",
       "25%    2013.000000     1.000000     1.000000  \n",
       "50%    2013.000000     1.000000     1.000000  \n",
       "75%    2013.000000     1.000000     1.000000  \n",
       "max    2014.000000     1.000000     1.000000  \n",
       "\n",
       "[8 rows x 30 columns]"
      ]
     },
     "execution_count": 66,
     "metadata": {},
     "output_type": "execute_result"
    }
   ],
   "source": [
    "x.describe()"
   ]
  },
  {
   "cell_type": "markdown",
   "id": "9e0d5e12-0d79-496c-8811-b717bae1c676",
   "metadata": {
    "user_expressions": []
   },
   "source": [
    "## Models - Using Random Forest, determine the features that have the biggest influence on committing crime again\n",
    "\n",
    "Random Forest model is a powerful tool for predicting the features that have the biggest influence on committing a crime again and testing assumptions related to age and prior criminal history. By identifying the most important predictors and their relationships with recidivism, we can develop targeted interventions and prevention strategies that address the underlying risk factors and reduce the likelihood of reoffending."
   ]
  },
  {
   "cell_type": "code",
   "execution_count": 67,
   "id": "8cfa4268-c7e3-4753-893f-49abd98dc860",
   "metadata": {},
   "outputs": [],
   "source": [
    "from sklearn.neighbors import KNeighborsClassifier\n",
    "from sklearn.tree import DecisionTreeClassifier\n",
    "from sklearn.ensemble import RandomForestClassifier\n",
    "from sklearn.svm import SVC\n",
    "from sklearn.metrics import accuracy_score, f1_score\n",
    "from sklearn.linear_model import LogisticRegression\n",
    "import random"
   ]
  },
  {
   "cell_type": "markdown",
   "id": "48a11d18-4b6b-4dcb-a555-98c1a76733ba",
   "metadata": {
    "user_expressions": []
   },
   "source": [
    "We first need performs a grid search over hyperparameters to find the best model for a random forest classifier."
   ]
  },
  {
   "cell_type": "code",
   "execution_count": 68,
   "id": "d4bb89ba-1fd3-4873-a1b6-da8059c12caf",
   "metadata": {},
   "outputs": [
    {
     "name": "stdout",
     "output_type": "stream",
     "text": [
      "[[0.59429825 0.59576023 0.60160819 0.59283626 0.58991228]\n",
      " [0.59429825 0.59210526 0.60526316 0.59795322 0.6001462 ]\n",
      " [0.60526316 0.61111111 0.61038012 0.60818713 0.60818713]\n",
      " [0.5994152  0.60599415 0.60453216 0.60964912 0.60672515]\n",
      " [0.57894737 0.59868421 0.60745614 0.60745614 0.60380117]]\n"
     ]
    }
   ],
   "source": [
    " # set the seed for the random number generator to a fixed value\n",
    "random.seed(123456)\n",
    "# calculate the number of rows to use for training (70% of the data)\n",
    "num = int(len(crime_data) * 0.7)\n",
    "# define a grid of hyperparameters to search over\n",
    "param_grid = {\"n_estimators\": [10,20,30,50,100], \"max_depth\": [1, 2, 3, 4, 5]} \n",
    "# get the length of the n_estimators and max_depth hyperparameter lists \n",
    "n_estimators_len = len(param_grid[\"n_estimators\"])\n",
    "max_depth = len(param_grid[\"max_depth\"])\n",
    "# create a KFold cross-validation object with 2 splits\n",
    "cv = KFold(n_splits=2, shuffle=True, random_state=666)\n",
    "# select the label column to predict\n",
    "label = label_columns[0]\n",
    "# split the data into training and testing sets\n",
    "train_x, train_y = x.loc[:num, :].values, crime_data.loc[:num, label].values \n",
    "test_x, test_y = x.loc[num:, :].values, crime_data.loc[num:, label].values\n",
    "# create a random forest classifier model\n",
    "model = RandomForestClassifier()\n",
    "# perform a grid search over the hyperparameters to find the best model\n",
    "clf = GridSearchCV(estimator=model,\n",
    "param_grid=param_grid, scoring='accuracy', cv=cv, return_train_score=True)\n",
    "clf.fit(train_x, train_y)\n",
    "# reshape the test scores into a 2D array\n",
    "test_score = clf.cv_results_['mean_test_score'].reshape((n_estimators_len, max_depth))\n",
    "print(test_score)"
   ]
  },
  {
   "cell_type": "markdown",
   "id": "6f4b00ef-329e-44bb-abc1-4726f58bbb75",
   "metadata": {
    "user_expressions": []
   },
   "source": [
    "Then, we need to create a 3D visualization to visualize our hyperparameter selection that shows the relationship between the model’s per- formance (as measured by test_score) and different values of max_depth and n_estimators. By plotting the test_score on the z-axis and max_depth and n_estimators on the x and y axes, re- spectively, we can see how changing these hyperparameters affects the model’s performance. \n",
    "This can help us choose the best values of max_depth and n_estimators that balance model complexity and accuracy, and avoid overfitting or underfitting."
   ]
  },
  {
   "cell_type": "code",
   "execution_count": 69,
   "id": "94ecdddf-82bf-4fe4-8150-63407673113d",
   "metadata": {},
   "outputs": [
    {
     "data": {
      "image/png": "[encoded data removed]",
      "text/plain": [
       "<Figure size 640x480 with 1 Axes>"
      ]
     },
     "metadata": {},
     "output_type": "display_data"
    }
   ],
   "source": [
    " # Create arrays for the x and y values\n",
    "x1 = np.arange(start=1, stop=n_estimators_len +1, step=1) \n",
    "y1 = np.arange(start=1, stop=max_depth +1, step=1)\n",
    "# Create a grid from the x and y arrays\n",
    "X1, Y1 = np.meshgrid(x1, y1)\n",
    "# Convert test_score to an array\n",
    "Z1 = np.asarray(test_score)\n",
    "# Create a new figure and axis for the 3D plot\n",
    "fig = plt.figure()\n",
    "ax = plt.axes(projection=\"3d\")\n",
    "# Plot the surface with the x, y, and z values\n",
    "\n",
    "ax.plot_surface(X1, Y1, Z1, alpha=0.9, cstride=1, rstride=1, cmap='rainbow')\n",
    "plt.xticks(x1, param_grid[\"n_estimators\"])\n",
    "plt.xlabel('n_estimators')\n",
    "plt.yticks(y1, param_grid[\"max_depth\"])\n",
    "plt.ylabel('max_depth')\n",
    "plt.savefig('figures/figure4.png')\n",
    "plt.show()"
   ]
  },
  {
   "cell_type": "markdown",
   "id": "87f46c6e-ff75-4277-9010-3619b06d1887",
   "metadata": {
    "user_expressions": []
   },
   "source": [
    "Finally, we are going to train a Random Forest Classifier model on a dataset and evaluate its performance on a testing set."
   ]
  },
  {
   "cell_type": "code",
   "execution_count": 70,
   "id": "9a8bbbf8-0aa8-4b0a-b7bb-b2377faaaf6f",
   "metadata": {},
   "outputs": [
    {
     "name": "stdout",
     "output_type": "stream",
     "text": [
      "Test Accuracy is: 0.6388\n"
     ]
    }
   ],
   "source": [
    " # Split the input data into training and testing sets\n",
    "# `num` is the index up to which the training data is used\n",
    "train_x, train_y = x.loc[:num, :].values, crime_data.loc[:num, label].values \n",
    "test_x, test_y = x.loc[num:, :].values, crime_data.loc[num:, label].values \n",
    "# Create a random forest classifier with 50 trees and a maximum depth of 4 \n",
    "clf = RandomForestClassifier(n_estimators=50, max_depth= 4)\n",
    "# Train the classifier on the training data\n",
    "clf.fit(train_x, train_y)\n",
    "# Predict the labels for the test data using the trained classifier \n",
    "test_pred = clf.predict(test_x)\n",
    "# Calculate the accuracy of the predictions on the test data\n",
    "test_acc = accuracy_score(test_y, test_pred)\n",
    "print(\"Test Accuracy is: {}\".format(round(test_acc, 4)))"
   ]
  },
  {
   "cell_type": "markdown",
   "id": "dcf7c4e8-5cdf-444d-b4c8-dc17bde3de54",
   "metadata": {
    "user_expressions": []
   },
   "source": [
    "After training a machine learning model, it is often useful to determine the importance of the features used in the model. This can help to answer questions such as:\n",
    "* Which features are most important in predicting the target variable?\n",
    "* Which features can be safely ignored without significantly affecting the model’s performance?\n",
    "* Are there any features that are highly correlated with each other and could be combined or removed to simplify the model?\n",
    "\n",
    "By analyzing the feature importance outcome, we can identify the most important features that contribute to the model’s performance and potentially simplify the model by eliminating irrelevant or redundant features. We can also gain insights into the underlying patterns and relationships in the data, which can inform future data collection and analysis efforts.\n",
    "In this example, the feature importance scores are shown in descending order, with the most important feature at the top of the list. The scores are normalized so that they sum to 1.0."
   ]
  },
  {
   "cell_type": "code",
   "execution_count": 71,
   "id": "b682fade-3d3d-43ce-a2e8-2351da1768bf",
   "metadata": {},
   "outputs": [],
   "source": [
    "feature_names = x.columns[:-1] \n",
    "imporfeatures_rank = sorted(zip(feature_names, map(lambda x:round(x,4), clf.feature_importances_)),key=lambda x: x[1],reverse=True)"
   ]
  },
  {
   "cell_type": "code",
   "execution_count": 72,
   "id": "c39c8ee8-f434-4f15-b619-af01de25ab9d",
   "metadata": {},
   "outputs": [
    {
     "data": {
      "text/plain": [
       "[('age_at_current_charge', 0.1418),\n",
       " ('p_misdemeanor', 0.1037),\n",
       " ('age_at_first_charge', 0.084),\n",
       " ('p_charges', 0.0708),\n",
       " ('p_pending_charge', 0.069),\n",
       " ('total_convictions', 0.0523),\n",
       " ('three_year', 0.0514),\n",
       " ('p_drug', 0.0407),\n",
       " ('p_arrest', 0.0386),\n",
       " ('day', 0.0354),\n",
       " ('one_year', 0.0342),\n",
       " ('p_dui', 0.0294),\n",
       " ('p_violence', 0.0254),\n",
       " ('race', 0.023),\n",
       " ('p_stealing', 0.0223),\n",
       " ('p_probation', 0.0188),\n",
       " ('p_property', 0.0165),\n",
       " ('month', 0.0162),\n",
       " ('p_felony', 0.0152),\n",
       " ('p_felassault', 0.0141),\n",
       " ('p_felprop_viol', 0.0138),\n",
       " ('p_incarceration', 0.0136),\n",
       " ('p_misdeassault', 0.0118),\n",
       " ('six_month', 0.0101),\n",
       " ('p_trespass', 0.0091),\n",
       " ('sex', 0.0081),\n",
       " ('current_violence', 0.0032),\n",
       " ('year', 0.0025),\n",
       " ('p_weapon', 0.0022)]"
      ]
     },
     "execution_count": 72,
     "metadata": {},
     "output_type": "execute_result"
    }
   ],
   "source": [
    "imporfeatures_rank"
   ]
  },
  {
   "cell_type": "markdown",
   "id": "d5770a5d-57f2-4ce4-83c0-bb5e312ac4b0",
   "metadata": {
    "user_expressions": []
   },
   "source": [
    "The outcome of our model predicted that age and number of prior misdemeanor are the features that will cause a person to commit another crime in the future. Higher number of prior misdemeanor will have higher chance to commit a crime again. And a younger age for a person committed his, her, or their first crime will have higher chance to commit a crime again in the future."
   ]
  },
  {
   "cell_type": "markdown",
   "id": "8c31f941-21b0-4df6-b6fc-8267cc2496d8",
   "metadata": {
    "user_expressions": []
   },
   "source": [
    "#### We will discussed about the results and interested findings further from our model in the main.ipynb"
   ]
  },
  {
   "cell_type": "code",
   "execution_count": null,
   "id": "3b90ae0e-dd48-42f1-8df9-27c1785b08bc",
   "metadata": {},
   "outputs": [],
   "source": []
  }
 ],
 "metadata": {
  "kernelspec": {
   "display_name": "IPython - developer",
   "language": "python",
   "name": "developer"
  },
  "language_info": {
   "codemirror_mode": {
    "name": "ipython",
    "version": 3
   },
   "file_extension": ".py",
   "mimetype": "text/x-python",
   "name": "python",
   "nbconvert_exporter": "python",
   "pygments_lexer": "ipython3",
   "version": "3.9.16"
  }
 },
 "nbformat": 4,
 "nbformat_minor": 5
}
